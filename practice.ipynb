{
 "cells": [
  {
   "cell_type": "code",
   "execution_count": 2,
   "id": "c14db13b",
   "metadata": {},
   "outputs": [],
   "source": [
    "string='In Search of peace'\n"
   ]
  },
  {
   "cell_type": "code",
   "execution_count": 3,
   "id": "f6f39b0b",
   "metadata": {},
   "outputs": [
    {
     "name": "stdout",
     "output_type": "stream",
     "text": [
      " Search \n",
      " Search \n",
      " Search \n",
      " Search \n"
     ]
    }
   ],
   "source": [
    "#find the ' search '\n",
    "print(string[2:10]) #Postive Indexing\n",
    "print(string[-16:-8]) #Negative indexing\n",
    "print(string[2:-8]) #Postive Indexing to negative indexing\n",
    "print(string[-16:10]) #Negative indexing to postive indexing"
   ]
  },
  {
   "cell_type": "code",
   "execution_count": 4,
   "id": "5fb9d716",
   "metadata": {},
   "outputs": [
    {
     "name": "stdout",
     "output_type": "stream",
     "text": [
      "I erho ec\n",
      "I erho ec\n",
      "I erho ec\n",
      "I erho ec\n"
     ]
    }
   ],
   "source": [
    "#print => alternate letters\n",
    "print(string[:-1:2]) #Postive Indexing\n",
    "print(string[-18::2]) #Negative indexing\n",
    "print(string[:-1:2]) #Postive Indexing to negative indexing\n",
    "print(string[-18::2]) #Negative indexing to postive indexing"
   ]
  },
  {
   "cell_type": "code",
   "execution_count": 5,
   "id": "6bcaae59",
   "metadata": {},
   "outputs": [
    {
     "name": "stdout",
     "output_type": "stream",
     "text": [
      "In Search \n",
      "In Search \n",
      "In Search \n",
      "In Search \n"
     ]
    }
   ],
   "source": [
    "#print =>first 10 values\n",
    "print(string[:10]) #Postive Indexing\n",
    "print(string[-18:10]) #Negative indexing\n",
    "print(string[0:-8]) #Postive Indexing to negative indexing\n",
    "print(string[-18:10]) #Negative indexing to postive indexing"
   ]
  },
  {
   "cell_type": "code",
   "execution_count": 6,
   "id": "cadee003",
   "metadata": {},
   "outputs": [
    {
     "name": "stdout",
     "output_type": "stream",
     "text": [
      "h of peace\n",
      "h of peace\n",
      "h of peace\n",
      "h of peace\n"
     ]
    }
   ],
   "source": [
    "#print =>Last 10 values\n",
    "print(string[8:18]) #Postive Indexing\n",
    "print(string[-10:]) #Negative indexing\n",
    "print(string[8:]) #Postive Indexing to negative indexing\n",
    "print(string[-10:18]) #Negative indexing to postive indexing"
   ]
  },
  {
   "cell_type": "code",
   "execution_count": 7,
   "id": "44a99921",
   "metadata": {},
   "outputs": [
    {
     "name": "stdout",
     "output_type": "stream",
     "text": [
      "Ieh c\n",
      "Ieh c\n",
      "Ieh c\n",
      "Ieh c\n"
     ]
    }
   ],
   "source": [
    "#print => skip 3 letters\n",
    "print(string[:-1:4]) #Postive Indexing\n",
    "print(string[-18::4]) #Negative indexing\n",
    "print(string[:-1:4]) #Postive Indexing to negative indexing\n",
    "print(string[-18::4]) #Negative indexing to postive indexing"
   ]
  },
  {
   "cell_type": "code",
   "execution_count": 36,
   "id": "2690bebe",
   "metadata": {},
   "outputs": [
    {
     "name": "stdout",
     "output_type": "stream",
     "text": [
      "fo hcraeS nI\n",
      "fo hcraeS nI\n",
      "fo hcraeS nI\n",
      "fo hcraeS nI\n"
     ]
    }
   ],
   "source": [
    "string='In Search of peace'\n",
    "#reverse from F \n",
    "print(string[11::-1]) #p \n",
    "print(string[11:-19:-1]) #p to n\n",
    "print(string[-7::-1]) #n to p doest work not\n",
    "print(string[-7::-1]) #negative"
   ]
  },
  {
   "cell_type": "code",
   "execution_count": 12,
   "id": "aad7976e",
   "metadata": {},
   "outputs": [],
   "source": [
    "string1 = '''Data science is An interdisciplinary field that Uses scientific methods,\n",
    "processes, algorithms and systems to Extract or extrapolate knowledge and insights\n",
    "from noisy, structured and unstructured data, and Apply knowledge from data across\n",
    "a broad range Of application domain'''"
   ]
  },
  {
   "cell_type": "code",
   "execution_count": 18,
   "id": "925a50f0",
   "metadata": {},
   "outputs": [
    {
     "name": "stdout",
     "output_type": "stream",
     "text": [
      "Dt scinc is An intrdisciplinry fild tht Uss scintific mthds,\n",
      "prcsss, lgrithms nd systms t Extrct r xtrplt knwldg nd insights\n",
      "frm nisy, structurd nd unstructurd dt, nd Apply knwldg frm dt crss\n",
      " brd rng Of pplictin dmin\n"
     ]
    }
   ],
   "source": [
    "for i in string:\n",
    "    vowels = ['a','e','i','o','u','A','E','I','O','U']\n",
    "    if i in vowels:\n",
    "        string1=string1.replace(i,'')\n",
    "print(string1)"
   ]
  },
  {
   "cell_type": "code",
   "execution_count": 24,
   "id": "e9a9135d",
   "metadata": {},
   "outputs": [
    {
     "name": "stdout",
     "output_type": "stream",
     "text": [
      "23\n"
     ]
    }
   ],
   "source": [
    "a=15\n",
    "b=8\n",
    "c=a+b\n",
    "print(c)"
   ]
  },
  {
   "cell_type": "code",
   "execution_count": 32,
   "id": "3aaf4e8c",
   "metadata": {},
   "outputs": [
    {
     "name": "stdout",
     "output_type": "stream",
     "text": [
      "10 \n",
      " 20\n"
     ]
    }
   ],
   "source": [
    "x=10\n",
    "y=20\n",
    "print(x,'\\n',y)"
   ]
  },
  {
   "cell_type": "code",
   "execution_count": 1,
   "id": "28c3b04a",
   "metadata": {},
   "outputs": [],
   "source": [
    "a = 'python'\n",
    "b = 'class'\n",
    "\n",
    "# pyass\n",
    "# clthon"
   ]
  },
  {
   "cell_type": "code",
   "execution_count": 5,
   "id": "723efffb",
   "metadata": {},
   "outputs": [
    {
     "name": "stdout",
     "output_type": "stream",
     "text": [
      "pyass\n",
      "clthon\n"
     ]
    }
   ],
   "source": [
    "print(a[:2]+b[2:5])\n",
    "print(b[:2]+a[2:6])"
   ]
  },
  {
   "cell_type": "code",
   "execution_count": null,
   "id": "0effc904",
   "metadata": {},
   "outputs": [],
   "source": [
    "new = 'String Functions.ipynb'\n",
    "\n"
   ]
  }
 ],
 "metadata": {
  "kernelspec": {
   "display_name": "Python 3",
   "language": "python",
   "name": "python3"
  },
  "language_info": {
   "codemirror_mode": {
    "name": "ipython",
    "version": 3
   },
   "file_extension": ".py",
   "mimetype": "text/x-python",
   "name": "python",
   "nbconvert_exporter": "python",
   "pygments_lexer": "ipython3",
   "version": "3.6.9"
  }
 },
 "nbformat": 4,
 "nbformat_minor": 5
}

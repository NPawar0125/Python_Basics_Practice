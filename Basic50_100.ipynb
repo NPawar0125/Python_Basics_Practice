{
 "cells": [
  {
   "cell_type": "markdown",
   "id": "d42ed242",
   "metadata": {},
   "source": [
    "51. Write a Python program to determine profiling of Python programs. Go to the editor\n",
    "Note: A profile is a set of statistics that describes how often and for how long various parts of the program executed. These statistics can be formatted into reports via the pstats module. "
   ]
  },
  {
   "cell_type": "code",
   "execution_count": 1,
   "id": "e516d31c",
   "metadata": {},
   "outputs": [
    {
     "name": "stdout",
     "output_type": "stream",
     "text": [
      "3\n",
      "         39 function calls in 0.000 seconds\n",
      "\n",
      "   Ordered by: standard name\n",
      "\n",
      "   ncalls  tottime  percall  cumtime  percall filename:lineno(function)\n",
      "        1    0.000    0.000    0.000    0.000 <ipython-input-1-32b1c8ecc2d3>:2(sum)\n",
      "        1    0.000    0.000    0.000    0.000 <string>:1(<module>)\n",
      "        3    0.000    0.000    0.000    0.000 iostream.py:195(schedule)\n",
      "        2    0.000    0.000    0.000    0.000 iostream.py:308(_is_master_process)\n",
      "        2    0.000    0.000    0.000    0.000 iostream.py:321(_schedule_flush)\n",
      "        2    0.000    0.000    0.000    0.000 iostream.py:384(write)\n",
      "        3    0.000    0.000    0.000    0.000 iostream.py:91(_event_pipe)\n",
      "        3    0.000    0.000    0.000    0.000 socket.py:543(send)\n",
      "        3    0.000    0.000    0.000    0.000 threading.py:1062(_wait_for_tstate_lock)\n",
      "        3    0.000    0.000    0.000    0.000 threading.py:1104(is_alive)\n",
      "        3    0.000    0.000    0.000    0.000 threading.py:506(is_set)\n",
      "        1    0.000    0.000    0.000    0.000 {built-in method builtins.exec}\n",
      "        2    0.000    0.000    0.000    0.000 {built-in method builtins.isinstance}\n",
      "        1    0.000    0.000    0.000    0.000 {built-in method builtins.print}\n",
      "        2    0.000    0.000    0.000    0.000 {built-in method posix.getpid}\n",
      "        3    0.000    0.000    0.000    0.000 {method 'acquire' of '_thread.lock' objects}\n",
      "        3    0.000    0.000    0.000    0.000 {method 'append' of 'collections.deque' objects}\n",
      "        1    0.000    0.000    0.000    0.000 {method 'disable' of '_lsprof.Profiler' objects}\n",
      "\n",
      "\n"
     ]
    }
   ],
   "source": [
    "import cProfile\n",
    "def sum():\n",
    "    print(1+2)\n",
    "\n",
    "cProfile.run('sum()')\n",
    "\n"
   ]
  },
  {
   "cell_type": "markdown",
   "id": "8bf79880",
   "metadata": {},
   "source": [
    "52. Write a Python program to print to stderr"
   ]
  },
  {
   "cell_type": "code",
   "execution_count": 2,
   "id": "8ff51652",
   "metadata": {},
   "outputs": [
    {
     "name": "stderr",
     "output_type": "stream",
     "text": [
      "abc--efg--xyz\n"
     ]
    }
   ],
   "source": [
    "from __future__ import print_function\n",
    "import sys\n",
    "\n",
    "def eprint(*args, **kwargs):\n",
    "    print(*args, file=sys.stderr, **kwargs)\n",
    "\n",
    "eprint(\"abc\", \"efg\", \"xyz\", sep=\"--\")\n"
   ]
  },
  {
   "cell_type": "markdown",
   "id": "d26ef6de",
   "metadata": {},
   "source": [
    "53. Write a python program to access environment variables. "
   ]
  },
  {
   "cell_type": "code",
   "execution_count": 14,
   "id": "e73a60c9",
   "metadata": {},
   "outputs": [
    {
     "name": "stdout",
     "output_type": "stream",
     "text": [
      "<module 'os' from '/usr/lib/python3.6/os.py'>\n",
      "environ({'GTK_MODULES': 'gail:atk-bridge', 'XDG_CONFIG_DIRS': '/etc/xdg/xdg-ubuntu:/etc/xdg', 'DBUS_STARTER_ADDRESS': 'unix:path=/run/user/1000/bus,guid=6a5f3300001dddee898182ec63291b17', 'QT_DEVICE_PIXEL_RATIO': 'auto', 'LANG': 'en_IN', 'DISPLAY': ':0', 'SHLVL': '0', 'LOGNAME': 'nikita', 'LANGUAGE': 'en_IN:en', 'INVOCATION_ID': '030c17d8d0224bbebf2b83c81eaa8c9e', 'MANDATORY_PATH': '/usr/share/gconf/ubuntu.mandatory.path', 'XDG_VTNR': '2', 'XDG_SEAT': 'seat0', 'XAUTHORITY': '/run/user/1000/gdm/Xauthority', 'PWD': '/home/nikita', 'JOURNAL_STREAM': '9:36964', 'GTK_IM_MODULE': 'ibus', 'COLORTERM': 'truecolor', 'XDG_SESSION_ID': '2', 'GNOME_TERMINAL_SCREEN': '/org/gnome/Terminal/screen/3034e54e_13f9_4a46_b664_560c31ecfe0b', 'DESKTOP_SESSION': 'ubuntu', 'XDG_SESSION_DESKTOP': 'ubuntu', 'GNOME_DESKTOP_SESSION_ID': 'this-is-deprecated', 'no_proxy': 'localhost,127.0.0.0/8,::1', 'TEXTDOMAINDIR': '/usr/share/locale/', 'GDMSESSION': 'ubuntu', 'WINDOWPATH': '2', 'TEXTDOMAIN': 'im-config', 'USERNAME': 'nikita', 'IM_CONFIG_PHASE': '2', 'DBUS_SESSION_BUS_ADDRESS': 'unix:path=/run/user/1000/bus,guid=6a5f3300001dddee898182ec63291b17', 'VTE_VERSION': '5202', 'DBUS_STARTER_BUS_TYPE': 'session', '_': '/usr/bin/dbus-update-activation-environment', 'GNOME_TERMINAL_SERVICE': ':1.102', 'QT4_IM_MODULE': 'xim', 'XDG_DATA_DIRS': '/usr/share/ubuntu:/usr/local/share/:/usr/share/:/var/lib/snapd/desktop', 'XDG_MENU_PREFIX': 'gnome-', 'NO_PROXY': 'localhost,127.0.0.0/8,::1', 'CLUTTER_IM_MODULE': 'xim', 'GNOME_SHELL_SESSION_MODE': 'ubuntu', 'PT8HOME': '/opt/pt', 'XDG_SESSION_TYPE': 'x11', 'QT_IM_MODULE': 'ibus', 'MANAGERPID': '1517', 'TERM': 'xterm-color', 'SHELL': '/bin/bash', 'SESSION_MANAGER': 'local/nikita-inspiron-15-3567:@/tmp/.ICE-unix/1546,unix/nikita-inspiron-15-3567:/tmp/.ICE-unix/1546', 'SSH_AUTH_SOCK': '/tmp/ssh-tm5420rqm9BT/agent.1546', 'QT_ACCESSIBILITY': '1', 'PATH': '/home/nikita/.local/bin:/opt/GitHub Desktop:/usr/local/sbin:/usr/local/bin:/usr/sbin:/usr/bin:/sbin:/bin:/usr/games:/usr/local/games:/snap/bin', 'SSH_AGENT_PID': '1642', 'HOME': '/home/nikita', 'XDG_CURRENT_DESKTOP': 'ubuntu:GNOME', 'XMODIFIERS': '@im=ibus', 'USER': 'nikita', 'DEFAULTS_PATH': '/usr/share/gconf/ubuntu.default.path', 'GPG_AGENT_INFO': '/run/user/1000/gnupg/S.gpg-agent:0:1', 'XDG_RUNTIME_DIR': '/run/user/1000', 'JPY_PARENT_PID': '12103', 'CLICOLOR': '1', 'PAGER': 'cat', 'GIT_PAGER': 'cat', 'MPLBACKEND': 'module://ipykernel.pylab.backend_inline'})\n",
      "\n",
      "/home/nikita\n",
      "\n",
      "/home/nikita/.local/bin:/opt/GitHub Desktop:/usr/local/sbin:/usr/local/bin:/usr/sbin:/usr/bin:/sbin:/bin:/usr/games:/usr/local/games:/snap/bin\n",
      "\n",
      "GTK_MODULES\n",
      "XDG_CONFIG_DIRS\n",
      "DBUS_STARTER_ADDRESS\n",
      "QT_DEVICE_PIXEL_RATIO\n",
      "LANG\n",
      "DISPLAY\n",
      "SHLVL\n",
      "LOGNAME\n",
      "LANGUAGE\n",
      "INVOCATION_ID\n",
      "MANDATORY_PATH\n",
      "XDG_VTNR\n",
      "XDG_SEAT\n",
      "XAUTHORITY\n",
      "PWD\n",
      "JOURNAL_STREAM\n",
      "GTK_IM_MODULE\n",
      "COLORTERM\n",
      "XDG_SESSION_ID\n",
      "GNOME_TERMINAL_SCREEN\n",
      "DESKTOP_SESSION\n",
      "XDG_SESSION_DESKTOP\n",
      "GNOME_DESKTOP_SESSION_ID\n",
      "no_proxy\n",
      "TEXTDOMAINDIR\n",
      "GDMSESSION\n",
      "WINDOWPATH\n",
      "TEXTDOMAIN\n",
      "USERNAME\n",
      "IM_CONFIG_PHASE\n",
      "DBUS_SESSION_BUS_ADDRESS\n",
      "VTE_VERSION\n",
      "DBUS_STARTER_BUS_TYPE\n",
      "_\n",
      "GNOME_TERMINAL_SERVICE\n",
      "QT4_IM_MODULE\n",
      "XDG_DATA_DIRS\n",
      "XDG_MENU_PREFIX\n",
      "NO_PROXY\n",
      "CLUTTER_IM_MODULE\n",
      "GNOME_SHELL_SESSION_MODE\n",
      "PT8HOME\n",
      "XDG_SESSION_TYPE\n",
      "QT_IM_MODULE\n",
      "MANAGERPID\n",
      "TERM\n",
      "SHELL\n",
      "SESSION_MANAGER\n",
      "SSH_AUTH_SOCK\n",
      "QT_ACCESSIBILITY\n",
      "PATH\n",
      "SSH_AGENT_PID\n",
      "HOME\n",
      "XDG_CURRENT_DESKTOP\n",
      "XMODIFIERS\n",
      "USER\n",
      "DEFAULTS_PATH\n",
      "GPG_AGENT_INFO\n",
      "XDG_RUNTIME_DIR\n",
      "JPY_PARENT_PID\n",
      "CLICOLOR\n",
      "PAGER\n",
      "GIT_PAGER\n",
      "MPLBACKEND\n",
      "module://ipykernel.pylab.backend_inline\n"
     ]
    }
   ],
   "source": [
    "import os\n",
    "print(os,end='\\n')\n",
    "print(os.environ,end='\\n\\n')\n",
    "print(os.environ['HOME'],end='\\n\\n')\n",
    "print(os.environ['PATH'],end='\\n\\n')\n",
    "for data in os.environ:\n",
    "    print(data)\n",
    "print(os.environ[data])"
   ]
  },
  {
   "cell_type": "markdown",
   "id": "140a0e42",
   "metadata": {},
   "source": [
    "54. Write a Python program to get the current username"
   ]
  },
  {
   "cell_type": "code",
   "execution_count": 16,
   "id": "fb66ccca",
   "metadata": {},
   "outputs": [
    {
     "name": "stdout",
     "output_type": "stream",
     "text": [
      "nikita\n"
     ]
    }
   ],
   "source": [
    "import getpass\n",
    "print(getpass.getuser())"
   ]
  },
  {
   "cell_type": "code",
   "execution_count": null,
   "id": "b7884f77",
   "metadata": {},
   "outputs": [],
   "source": [
    "import socket\n",
    "print([l for l in ([ip for ip in socket.gethostbyname_ex(socket.gethostname())[2] \n",
    "if not ip.startswith(\"127.\")][:1], [[(s.connect(('8.8.8.8', 53)), \n",
    "s.getsockname()[0], s.close()) for s in [socket.socket(socket.AF_INET, \n",
    "socket.SOCK_DGRAM)]][0][1]]) if l][0][0])\n"
   ]
  },
  {
   "cell_type": "markdown",
   "id": "97d7db2b",
   "metadata": {},
   "source": [
    " Write a Python program to get height and the width of console window."
   ]
  },
  {
   "cell_type": "code",
   "execution_count": 17,
   "id": "55e064d1",
   "metadata": {},
   "outputs": [
    {
     "ename": "OSError",
     "evalue": "[Errno 25] Inappropriate ioctl for device",
     "output_type": "error",
     "traceback": [
      "\u001b[0;31m---------------------------------------------------------------------------\u001b[0m",
      "\u001b[0;31mOSError\u001b[0m                                   Traceback (most recent call last)",
      "\u001b[0;32m<ipython-input-17-940ca9246741>\u001b[0m in \u001b[0;36m<module>\u001b[0;34m\u001b[0m\n\u001b[1;32m      6\u001b[0m     \u001b[0;32mreturn\u001b[0m \u001b[0mtw\u001b[0m\u001b[0;34m,\u001b[0m \u001b[0mth\u001b[0m\u001b[0;34m\u001b[0m\u001b[0;34m\u001b[0m\u001b[0m\n\u001b[1;32m      7\u001b[0m \u001b[0;34m\u001b[0m\u001b[0m\n\u001b[0;32m----> 8\u001b[0;31m \u001b[0mprint\u001b[0m\u001b[0;34m(\u001b[0m\u001b[0;34m'Number of columns and Rows: '\u001b[0m\u001b[0;34m,\u001b[0m\u001b[0mterminal_size\u001b[0m\u001b[0;34m(\u001b[0m\u001b[0;34m)\u001b[0m\u001b[0;34m)\u001b[0m\u001b[0;34m\u001b[0m\u001b[0;34m\u001b[0m\u001b[0m\n\u001b[0m",
      "\u001b[0;32m<ipython-input-17-940ca9246741>\u001b[0m in \u001b[0;36mterminal_size\u001b[0;34m()\u001b[0m\n\u001b[1;32m      3\u001b[0m     th, tw, hp, wp = struct.unpack('HHHH',\n\u001b[1;32m      4\u001b[0m         fcntl.ioctl(0, termios.TIOCGWINSZ,\n\u001b[0;32m----> 5\u001b[0;31m         struct.pack('HHHH', 0, 0, 0, 0)))\n\u001b[0m\u001b[1;32m      6\u001b[0m     \u001b[0;32mreturn\u001b[0m \u001b[0mtw\u001b[0m\u001b[0;34m,\u001b[0m \u001b[0mth\u001b[0m\u001b[0;34m\u001b[0m\u001b[0;34m\u001b[0m\u001b[0m\n\u001b[1;32m      7\u001b[0m \u001b[0;34m\u001b[0m\u001b[0m\n",
      "\u001b[0;31mOSError\u001b[0m: [Errno 25] Inappropriate ioctl for device"
     ]
    }
   ],
   "source": [
    "def terminal_size():\n",
    "    import fcntl, termios, struct\n",
    "    th, tw, hp, wp = struct.unpack('HHHH',\n",
    "        fcntl.ioctl(0, termios.TIOCGWINSZ,\n",
    "        struct.pack('HHHH', 0, 0, 0, 0)))\n",
    "    return tw, th\n",
    "\n",
    "print('Number of columns and Rows: ',terminal_size())\n"
   ]
  },
  {
   "cell_type": "markdown",
   "id": "535964b6",
   "metadata": {},
   "source": [
    "57. Write a Python program to get execution time for a Python method. Go to the editor"
   ]
  },
  {
   "cell_type": "code",
   "execution_count": 18,
   "id": "fc48d093",
   "metadata": {},
   "outputs": [
    {
     "name": "stdout",
     "output_type": "stream",
     "text": [
      "\n",
      "Time to sum of 1 to  5  and required time to calculate is : (15, 3.5762786865234375e-06)\n"
     ]
    }
   ],
   "source": [
    "import time\n",
    "def sum_of_n_numbers(n):\n",
    "    start_time = time.time()\n",
    "    s = 0\n",
    "    for i in range(1,n+1):\n",
    "        s = s + i\n",
    "    end_time = time.time()\n",
    "    return s,end_time-start_time\n",
    "\n",
    "n = 5\n",
    "print(\"\\nTime to sum of 1 to \",n,\" and required time to calculate is :\",sum_of_n_numbers(n))\n"
   ]
  },
  {
   "cell_type": "markdown",
   "id": "6f23c69e",
   "metadata": {},
   "source": [
    "58. Write a Python program to sum of the first n positive integers."
   ]
  },
  {
   "cell_type": "code",
   "execution_count": 36,
   "id": "f5a191ca",
   "metadata": {},
   "outputs": [
    {
     "name": "stdout",
     "output_type": "stream",
     "text": [
      "Enter the n number8\n",
      "36.0\n"
     ]
    }
   ],
   "source": [
    "a=int(input('Enter the n number'))\n",
    "sum_of_number = (a*(a+1))/2 #if 5 formula to calculate the sum , s=(s*(s + 1))/2\n",
    "print(sum_of_number)"
   ]
  },
  {
   "cell_type": "markdown",
   "id": "7528051b",
   "metadata": {},
   "source": [
    "59. Write a Python program to convert height (in feet and inches) to centimeters"
   ]
  },
  {
   "cell_type": "code",
   "execution_count": 37,
   "id": "3b6011b9",
   "metadata": {},
   "outputs": [
    {
     "name": "stdout",
     "output_type": "stream",
     "text": [
      "Enter the height1\n",
      "0.01\n"
     ]
    }
   ],
   "source": [
    "height = int(input(\"Enter the height\"))\n",
    "centimeters = height / 100\n",
    "print(centimeters)"
   ]
  },
  {
   "cell_type": "markdown",
   "id": "35d4928e",
   "metadata": {},
   "source": [
    "60. Write a Python program to calculate the hypotenuse of a right angled triangle."
   ]
  },
  {
   "cell_type": "code",
   "execution_count": 46,
   "id": "6d688373",
   "metadata": {},
   "outputs": [
    {
     "name": "stdout",
     "output_type": "stream",
     "text": [
      "Enter the Adjustment side3\n",
      "Enter the opposite side4\n",
      "5.0\n"
     ]
    }
   ],
   "source": [
    "from math import sqrt\n",
    "adj=int(input(\"Enter the Adjustment side\"))\n",
    "opp=int(input(\"Enter the opposite side\"))\n",
    "hyp = sqrt((adj)**2 + (opp)**2)\n",
    "print(hyp)"
   ]
  },
  {
   "cell_type": "markdown",
   "id": "eae0a598",
   "metadata": {},
   "source": [
    "61. Write a Python program to convert the distance (in feet) to inches, yards, and miles."
   ]
  },
  {
   "cell_type": "code",
   "execution_count": 51,
   "id": "81c6802e",
   "metadata": {},
   "outputs": [
    {
     "name": "stdout",
     "output_type": "stream",
     "text": [
      "Enter the foot 100\n",
      "1200\n",
      "33.333333333333336\n",
      "1200\n"
     ]
    }
   ],
   "source": [
    "# 1 foot = 12 inches\n",
    "# 1 yard = 3 feet\n",
    "# 1 mile = 5280 miles\n",
    "\n",
    "foot =int(input(\"Enter the foot \"))\n",
    "foot_to_inches = foot * 12 \n",
    "foot_to_yard = foot / 3 \n",
    "foot_to_miles = foot / 5280\n",
    "print(foot_to_inches)\n",
    "print(foot_to_yard)\n",
    "print(foot_to_inches)"
   ]
  },
  {
   "cell_type": "markdown",
   "id": "25acc8b0",
   "metadata": {},
   "source": [
    "62. Write a Python program to convert all units of time into seconds. Go to the editor"
   ]
  },
  {
   "cell_type": "code",
   "execution_count": 52,
   "id": "a1fd5c13",
   "metadata": {},
   "outputs": [
    {
     "name": "stdout",
     "output_type": "stream",
     "text": [
      "Input days: 5\n",
      "Input hours: 24\n",
      "Input minutes: 60\n",
      "Input seconds: 50\n",
      "The  amounts of seconds 522050\n"
     ]
    }
   ],
   "source": [
    "days = int(input(\"Input days: \")) * 3600 * 24\n",
    "hours = int(input(\"Input hours: \")) * 3600\n",
    "minutes = int(input(\"Input minutes: \")) * 60\n",
    "seconds = int(input(\"Input seconds: \"))\n",
    "\n",
    "time = days + hours + minutes + seconds\n",
    "\n",
    "print(\"The  amounts of seconds\", time)\n"
   ]
  },
  {
   "cell_type": "markdown",
   "id": "6ca6bf44",
   "metadata": {},
   "source": [
    "66. Write a Python program to calculate body mass index. Go to the editor"
   ]
  },
  {
   "cell_type": "code",
   "execution_count": 53,
   "id": "345d65cc",
   "metadata": {},
   "outputs": [
    {
     "name": "stdout",
     "output_type": "stream",
     "text": [
      "Input your height in Feet: 5.2\n",
      "Input your weight in Kilogram: 45\n",
      "Your body mass index is:  1.66\n"
     ]
    }
   ],
   "source": [
    "height = float(input(\"Input your height in Feet: \"))\n",
    "weight = float(input(\"Input your weight in Kilogram: \"))\n",
    "print(\"Your body mass index is: \", round(weight / (height * height), 2))\n"
   ]
  },
  {
   "cell_type": "markdown",
   "id": "3cdec242",
   "metadata": {},
   "source": [
    "67. Write a Python program to convert pressure in kilopascals to pounds per square inch, a millimeter of mercury (mmHg) and atmosphere pressure. Go to the editor"
   ]
  },
  {
   "cell_type": "code",
   "execution_count": 54,
   "id": "0ed6c7ea",
   "metadata": {},
   "outputs": [
    {
     "name": "stdout",
     "output_type": "stream",
     "text": [
      "Input pressure in in kilopascals> 55\n",
      "The pressure in pounds per square inch: 7.98 psi\n",
      "The pressure in millimeter of mercury: 412.53 mmHg\n",
      "Atmosphere pressure: 0.54 atm.\n"
     ]
    }
   ],
   "source": [
    "kpa = float(input(\"Input pressure in in kilopascals> \"))\n",
    "psi = kpa / 6.89475729\n",
    "mmhg = kpa * 760 / 101.325\n",
    "atm = kpa / 101.325\n",
    "print(\"The pressure in pounds per square inch: %.2f psi\"  % (psi))\n",
    "print(\"The pressure in millimeter of mercury: %.2f mmHg\" % (mmhg))\n",
    "print(\"Atmosphere pressure: %.2f atm.\" % (atm))\n"
   ]
  },
  {
   "cell_type": "markdown",
   "id": "c72962bf",
   "metadata": {},
   "source": [
    "68 Write a Python program to calculate sum of digits of a number."
   ]
  },
  {
   "cell_type": "code",
   "execution_count": 3,
   "id": "af204b62",
   "metadata": {},
   "outputs": [
    {
     "name": "stdout",
     "output_type": "stream",
     "text": [
      "25\n"
     ]
    }
   ],
   "source": [
    "number = '52648'\n",
    "sum_of_number=0\n",
    "\n",
    "for i in number:\n",
    "    sum_of_number+=int(i)\n",
    "    \n",
    "print(sum_of_number)"
   ]
  },
  {
   "cell_type": "markdown",
   "id": "89158590-94c7-4cb0-bd49-e8c4019ccfd8",
   "metadata": {},
   "source": [
    "69. Write a Python program to sort three integers without using conditional statements and loops"
   ]
  },
  {
   "cell_type": "code",
   "execution_count": 6,
   "id": "c86ab980",
   "metadata": {},
   "outputs": [
    {
     "name": "stdout",
     "output_type": "stream",
     "text": [
      "85 80 25\n"
     ]
    }
   ],
   "source": [
    "a=25;b=85;c=80\n",
    "max_number = max(a,b,c)\n",
    "min_number = min(a,b,c)\n",
    "mid_number = (a+b+c)-max_number - min_number\n",
    "print(f'{max_number} {mid_number} {min_number}')"
   ]
  },
  {
   "cell_type": "markdown",
   "id": "ac91fd06-693b-4712-93c7-3eee5e8ddc12",
   "metadata": {},
   "source": [
    "70. Write a Python program to sort files by date."
   ]
  },
  {
   "cell_type": "code",
   "execution_count": 17,
   "id": "6efc33fe",
   "metadata": {},
   "outputs": [
    {
     "name": "stdout",
     "output_type": "stream",
     "text": [
      "\n"
     ]
    }
   ],
   "source": [
    "# import os\n",
    "\n",
    "# file_name = os.listdir()\n",
    "\n",
    "# print(file_name.sort(key =os.path.getmtime))\n",
    "\n",
    "\n",
    "\n",
    "import glob\n",
    "import os\n",
    "\n",
    "files = glob.glob(\"*.txt\")\n",
    "files.sort(key=os.path.getmtime)\n",
    "print(\"\\n\".join(files))\n"
   ]
  },
  {
   "cell_type": "code",
   "execution_count": 19,
   "id": "893a01ed-00cf-495b-925a-4040b19d71c2",
   "metadata": {},
   "outputs": [
    {
     "name": "stdout",
     "output_type": "stream",
     "text": [
      "['__doc__', '__loader__', '__name__', '__package__', '__spec__', 'acos', 'acosh', 'asin', 'asinh', 'atan', 'atan2', 'atanh', 'ceil', 'copysign', 'cos', 'cosh', 'degrees', 'e', 'erf', 'erfc', 'exp', 'expm1', 'fabs', 'factorial', 'floor', 'fmod', 'frexp', 'fsum', 'gamma', 'gcd', 'hypot', 'inf', 'isclose', 'isfinite', 'isinf', 'isnan', 'ldexp', 'lgamma', 'log', 'log10', 'log1p', 'log2', 'modf', 'nan', 'pi', 'pow', 'radians', 'sin', 'sinh', 'sqrt', 'tan', 'tanh', 'tau', 'trunc']\n"
     ]
    }
   ],
   "source": [
    "import math\n",
    "math_dir = dir(math)\n",
    "print(math_dir)"
   ]
  },
  {
   "cell_type": "code",
   "execution_count": 5,
   "id": "24e1a5fe-9d60-490c-a477-7fefc351001a",
   "metadata": {},
   "outputs": [
    {
     "name": "stdin",
     "output_type": "stream",
     "text": [
      "Enter x1 cordinate of line 8\n",
      "Enter y1 cordinate of line 9\n",
      "Enter x2 cordinate of line 58\n",
      "Enter y2 cordinate of line 63\n"
     ]
    },
    {
     "name": "stdout",
     "output_type": "stream",
     "text": [
      "27.0 25.0\n"
     ]
    }
   ],
   "source": [
    "#73. Write a Python program to calculate midpoints of a line.\n",
    "x1 = int(input('Enter x1 cordinate of line'))\n",
    "y1 = int(input('Enter y1 cordinate of line'))\n",
    "x2 = int(input('Enter x2 cordinate of line'))\n",
    "y2 = int(input('Enter y2 cordinate of line'))\n",
    "\n",
    "x,y = ( (y2+y1)/2 , (x2+x1)/2)\n",
    "print(x , y)"
   ]
  },
  {
   "cell_type": "code",
   "execution_count": 20,
   "id": "25050e71-2f95-4740-95cc-defd8d37c0de",
   "metadata": {},
   "outputs": [
    {
     "name": "stdout",
     "output_type": "stream",
     "text": [
      "a7f5f35426b927411fc9231b56382173\n"
     ]
    }
   ],
   "source": [
    "#74. Write a Python program to hash a word. Go to the editor\n",
    "import hashlib\n",
    "\n",
    "string = 'Python'\n",
    "hash_word = getattr(hashlib,'md5')()\n",
    "hash_word.update(string.encode())\n",
    "print(hash_word.hexdigest())"
   ]
  },
  {
   "cell_type": "code",
   "execution_count": 21,
   "id": "3d6a36b0-f8a6-41a2-9ac4-3db73aa57e8c",
   "metadata": {},
   "outputs": [
    {
     "name": "stdout",
     "output_type": "stream",
     "text": [
      "\n",
      "Python Copyright Information\n",
      "Copyright (c) 2001-2019 Python Software Foundation.\n",
      "All Rights Reserved.\n",
      "\n",
      "Copyright (c) 2000 BeOpen.com.\n",
      "All Rights Reserved.\n",
      "\n",
      "Copyright (c) 1995-2001 Corporation for National Research Initiatives.\n",
      "All Rights Reserved.\n",
      "\n",
      "Copyright (c) 1991-1995 Stichting Mathematisch Centrum, Amsterdam.\n",
      "All Rights Reserved.\n",
      "\n"
     ]
    }
   ],
   "source": [
    "# 75. Write a Python program to get the copyright information and write Copyright information in Python code.\n",
    "import sys\n",
    "print(\"\\nPython Copyright Information\")\n",
    "print(sys.copyright)\n",
    "print()\n"
   ]
  },
  {
   "cell_type": "code",
   "execution_count": 22,
   "id": "6b6e6bf4-8b95-4d93-82cd-163d11b2970d",
   "metadata": {},
   "outputs": [
    {
     "name": "stdout",
     "output_type": "stream",
     "text": [
      "This is the name/path of the script:\n",
      "Number of arguments: 3\n",
      "Argument List: ['/home/nikita/.local/lib/python3.6/site-packages/ipykernel_launcher.py', '-f', '/home/nikita/.local/share/jupyter/runtime/kernel-e82f00c0-e122-4650-b26e-a7249174b607.json']\n"
     ]
    }
   ],
   "source": [
    "# 76. Write a Python program to get the command-line arguments (name of the script, the number of arguments, arguments)\n",
    "# passed to a script.\n",
    "import sys\n",
    "print(\"This is the name/path of the script:\"),sys.argv[0]\n",
    "print(\"Number of arguments:\",len(sys.argv))\n",
    "print(\"Argument List:\",str(sys.argv))\n"
   ]
  },
  {
   "cell_type": "code",
   "execution_count": 26,
   "id": "aad023d2-6323-4bae-adac-f57174ef98d6",
   "metadata": {},
   "outputs": [
    {
     "name": "stdout",
     "output_type": "stream",
     "text": [
      "\n",
      "Big-endian platform.\n",
      "\n"
     ]
    }
   ],
   "source": [
    "\n",
    "#77. Write a Python program to test whether the system is a big-endian platform or little-endian platform. \n",
    "# sys.byteorder: An indicator of the native byte order. This will have the value 'big' on big-endian (most-significant byte first) platforms, and 'little' on little-endian (least-significant byte first) platforms.\n",
    "\n",
    "import sys\n",
    "print()\n",
    "if sys.byteorder == \"little of\":\n",
    "    #intel, alpha\n",
    "    print(\"Little-endian platform.\")\n",
    "else:\n",
    "    #motorola, sparc\n",
    "    print(\"Big-endian platform.\")\n",
    "print()\n",
    "\n",
    "\n"
   ]
  },
  {
   "cell_type": "code",
   "execution_count": 30,
   "id": "a4ba313f-a78b-4755-81a4-9bbc643f96ca",
   "metadata": {},
   "outputs": [
    {
     "name": "stdout",
     "output_type": "stream",
     "text": [
      "('_ast', '_bisect', '_blake2', '_codecs', '_collections', '_datetime', '_elementtree', '_functools', '_heapq', '_imp', '_io', '_locale', '_md5', '_operator', '_pickle', '_posixsubprocess', '_random', '_sha1', '_sha256', '_sha3', '_sha512', '_signal', '_socket', '_sre', '_stat', '_string', '_struct', '_symtable', '_thread', '_tracemalloc', '_warnings', '_weakref', 'array', 'atexit', 'binascii', 'builtins', 'cmath', 'errno', 'faulthandler', 'fcntl', 'gc', 'grp', 'itertools', 'marshal', 'math', 'posix', 'pwd', 'pyexpat', 'select', 'spwd', 'sys', 'syslog', 'time', 'unicodedata', 'xxsubtype', 'zipimport', 'zlib')\n"
     ]
    }
   ],
   "source": [
    "# 78. Write a Python program to find the available built-in modules.\n",
    "import sys\n",
    "\n",
    "print(sys.builtin_module_names)"
   ]
  },
  {
   "cell_type": "code",
   "execution_count": 31,
   "id": "8e1c1538",
   "metadata": {},
   "outputs": [
    {
     "name": "stdout",
     "output_type": "stream",
     "text": [
      "Size of  one = 52 bytes\n",
      "Size of  four = 53 bytes\n",
      "Size of  three = 54 bytes\n",
      "Size of 0 = 24 bytes\n",
      "Size of 112 =28 bytes\n",
      "Size of [1, 2, 3, 'Red', 'Black'] = 104  bytes\n",
      "Size of ('Red', [8, 4, 6], (1, 2, 3)) = 72  bytes\n",
      "Size of {'orange', 'apple', 'pear'} = 224  bytes\n",
      "Size of {'Name': 'David', 'Age': 6, 'Class': 'First'} = 224  bytes\n"
     ]
    }
   ],
   "source": [
    "# 79. Write a Python program to get the size of an object in bytes.\n",
    "import sys\n",
    "str1 = \"one\"\n",
    "str2 = \"four\"\n",
    "str3 = \"three\"\n",
    "x = 0\n",
    "y = 112\n",
    "z = 122.56\n",
    "print(\"Size of \",str1,\"=\",str(sys.getsizeof(str1))+ \" bytes\")\n",
    "print(\"Size of \",str2,\"=\",str(sys.getsizeof(str2))+ \" bytes\")\n",
    "print(\"Size of \",str3,\"=\",str(sys.getsizeof(str3))+ \" bytes\")\n",
    "print(\"Size of\",x,\"=\",str(sys.getsizeof(x))+ \" bytes\")\n",
    "print(\"Size of\" ,y,\"=\"+str(sys.getsizeof(y))+ \" bytes\")\n",
    "L = [1, 2, 3, 'Red', 'Black']\n",
    "print(\"Size of\",L,\"=\",sys.getsizeof(L),\" bytes\")\n",
    "T = (\"Red\", [8, 4, 6], (1, 2, 3))\n",
    "print(\"Size of\",T,\"=\",sys.getsizeof(T),\" bytes\")\n",
    "S = {'apple', 'orange', 'apple', 'pear'}\n",
    "print(\"Size of\",S,\"=\",sys.getsizeof(S),\" bytes\")\n",
    "D = {'Name': 'David', 'Age': 6, 'Class': 'First'}\n",
    "print(\"Size of\",D,\"=\",sys.getsizeof(S),\" bytes\")\n"
   ]
  },
  {
   "cell_type": "code",
   "execution_count": 32,
   "id": "bb62d56b",
   "metadata": {},
   "outputs": [
    {
     "name": "stdout",
     "output_type": "stream",
     "text": [
      "\n",
      "Current value of the recursion limit:\n",
      "3000\n",
      "\n"
     ]
    }
   ],
   "source": [
    "# 80. Write a Python program to get the current value of the recursion limit.\n",
    "import sys\n",
    "print()\n",
    "print(\"Current value of the recursion limit:\")\n",
    "print(sys.getrecursionlimit())\n",
    "print()\n"
   ]
  },
  {
   "cell_type": "code",
   "execution_count": 1,
   "id": "e0571ef6-658c-4d2d-9f57-23e67ca2f1b9",
   "metadata": {},
   "outputs": [
    {
     "name": "stdout",
     "output_type": "stream",
     "text": [
      "\n",
      "All Colors: Red-White-Black\n",
      "\n"
     ]
    }
   ],
   "source": [
    "#81. Write a Python program to concatenate N strings.\n",
    "list_of_colors = ['Red', 'White', 'Black']  \n",
    "colors = '-'.join(list_of_colors)\n",
    "print()\n",
    "print(\"All Colors: \"+colors)\n",
    "print()\n"
   ]
  },
  {
   "cell_type": "code",
   "execution_count": 2,
   "id": "1f3dc576-80bb-4f86-b07d-546b048fc7c0",
   "metadata": {},
   "outputs": [
    {
     "name": "stdout",
     "output_type": "stream",
     "text": [
      "\n",
      "Sum of the container:  60\n",
      "\n"
     ]
    }
   ],
   "source": [
    "#82. Write a Python program to calculate the sum of all items of a container (tuple, list, set, dictionary). \n",
    "s = sum([10,20,30])\n",
    "print(\"\\nSum of the container: \", s)\n",
    "print()\n"
   ]
  },
  {
   "cell_type": "code",
   "execution_count": 3,
   "id": "4ded2ac3-94f0-4e6d-ae68-17f217639756",
   "metadata": {},
   "outputs": [
    {
     "name": "stdout",
     "output_type": "stream",
     "text": [
      "\n",
      "True\n",
      "False\n",
      "\n"
     ]
    }
   ],
   "source": [
    "# 83. Write a Python program to test whether all numbers of a list is greater than a certain number\n",
    "num = [2, 3, 4, 5]\n",
    "print()\n",
    "print(all(x > 1 for x in num))\n",
    "print(all(x > 4 for x in num))\n",
    "print()\n"
   ]
  },
  {
   "cell_type": "code",
   "execution_count": 6,
   "id": "3b56524a-34e4-42d8-9435-f55dbb70336c",
   "metadata": {},
   "outputs": [
    {
     "name": "stdout",
     "output_type": "stream",
     "text": [
      "Original string:\n",
      "The quick brown fox jumps over the lazy dog.\n",
      "Number of occurrence of 'o' in the said string:\n",
      "4\n"
     ]
    }
   ],
   "source": [
    "#84. Write a Python program to count the number occurrence of a specific character in a string. \n",
    "s = \"The quick brown fox jumps over the lazy dog.\"  \n",
    "print(\"Original string:\")\n",
    "print(s)\n",
    "print(\"Number of occurrence of 'o' in the said string:\")\n",
    "print(s.count(\"o\"))\n"
   ]
  },
  {
   "cell_type": "code",
   "execution_count": null,
   "id": "4c4d4491-2be6-45f5-8e98-8c160b59c7ef",
   "metadata": {},
   "outputs": [],
   "source": [
    "#85. Write a Python program to check whether a file path is a file or a directory.\n",
    "import os  \n",
    "path=\"abc.txt\"  \n",
    "if os.path.isdir(path):  \n",
    "    print(\"\\nIt is a directory\")  \n",
    "elif os.path.isfile(path):  \n",
    "    print(\"\\nIt is a normal file\")  \n",
    "else:  \n",
    "    print(\"It is a special file (socket, FIFO, device file)\" )\n",
    "print()\n"
   ]
  },
  {
   "cell_type": "code",
   "execution_count": 7,
   "id": "48900fcd-85a3-4f2e-874e-0a3fa3b1720f",
   "metadata": {},
   "outputs": [
    {
     "name": "stdin",
     "output_type": "stream",
     "text": [
      "Enter the string g\n"
     ]
    },
    {
     "name": "stdout",
     "output_type": "stream",
     "text": [
      "103\n"
     ]
    }
   ],
   "source": [
    "# 86. Write a Python program to get the ASCII value of a character. \n",
    "char = input(\"Enter the string\")\n",
    "print(ord(char))"
   ]
  },
  {
   "cell_type": "code",
   "execution_count": 15,
   "id": "57804ee9-f2a8-4cda-a871-a71a0388f19c",
   "metadata": {},
   "outputs": [
    {
     "name": "stdout",
     "output_type": "stream",
     "text": [
      "\n",
      "The size of assignment file is : 29028 Bytes\n",
      "\n"
     ]
    }
   ],
   "source": [
    "# 87. Write a Python program to get the size of a file. \n",
    "import os\n",
    "file_size = os.path.getsize(r\"Assignments/Assignment_01.ipynb\")\n",
    "print(\"\\nThe size of assignment file is :\",file_size,\"Bytes\")\n",
    "print()\n"
   ]
  },
  {
   "cell_type": "code",
   "execution_count": 16,
   "id": "2ed1291a-0a5e-4756-be5c-b9fef20a7a9f",
   "metadata": {},
   "outputs": [
    {
     "name": "stdout",
     "output_type": "stream",
     "text": [
      "\"30 + 20 = 50\"\n"
     ]
    }
   ],
   "source": [
    "# 88. Given variables x=30 and y=20, write a Python program to print \"30+20=50\".\n",
    "x=30\n",
    "y=20\n",
    "print(f'\"{x} + {y} = {x+y}\"')"
   ]
  },
  {
   "cell_type": "code",
   "execution_count": 18,
   "id": "6be56d1e-d63c-4463-b14f-13b8e892866a",
   "metadata": {},
   "outputs": [
    {
     "name": "stdout",
     "output_type": "stream",
     "text": [
      "\n",
      "First day of a Month!\n",
      "\n"
     ]
    }
   ],
   "source": [
    "# 89. Write a Python program to perform an action if a condition is true. Go to the editor\n",
    "# Given a variable name, if the value is 1, display the string \"First day of a Month!\" and\n",
    "# do nothing if the value is not equal.\n",
    "n=1\n",
    "if n == 1:\n",
    "    print(\"\\nFirst day of a Month!\")\n",
    "print()\n",
    "\n"
   ]
  },
  {
   "cell_type": "code",
   "execution_count": 19,
   "id": "dc05d622-a508-4a3e-a580-b6464ff3d77a",
   "metadata": {},
   "outputs": [],
   "source": [
    "# 90. Write a Python program to create a copy of its own source code.\n",
    "def file_copy(src, dest):\n",
    "    with open(src) as f, open(dest, 'w') as d:\n",
    "        d.write(f.read())\n",
    "        file_copy(\"untitled0.py\", \"z.py\")\n",
    "        with open('z.py', 'r') as filehandle:\n",
    "            for line in filehandle:\n",
    "                print(line, end = '')\n"
   ]
  },
  {
   "cell_type": "code",
   "execution_count": 20,
   "id": "ebb6385c-c613-47a7-abfe-f1b3a0d04dd7",
   "metadata": {},
   "outputs": [
    {
     "name": "stdout",
     "output_type": "stream",
     "text": [
      "\n",
      "Before swap a = 30 and b = 20\n",
      "\n",
      "After swaping a = 20 and b = 30\n",
      "\n"
     ]
    }
   ],
   "source": [
    "# 91. Write a Python program to swap two variables.\n",
    "a = 30\n",
    "b = 20\n",
    "print(\"\\nBefore swap a = %d and b = %d\" %(a, b))\n",
    "a, b = b, a\n",
    "print(\"\\nAfter swaping a = %d and b = %d\" %(a, b))\n",
    "print()\n"
   ]
  },
  {
   "cell_type": "code",
   "execution_count": 21,
   "id": "fff4bae4-c7a9-4392-9b31-9c37063a32d5",
   "metadata": {},
   "outputs": [
    {
     "name": "stdout",
     "output_type": "stream",
     "text": [
      "\n",
      "\\#{'}${\"}@/\n",
      "\\#{'}${\"}@/\n",
      "\\#{'}${\"}@/\n",
      "\\#{'}${\"}@/\n",
      "\\#{'}${\"}@/\n",
      "\\#{'}${\"}@/\n",
      "\n"
     ]
    }
   ],
   "source": [
    "# 92. Write a Python program to define a string containing special characters in various forms.\n",
    "print()\n",
    "print(\"\\#{'}${\\\"}@/\")\n",
    "print(\"\\#{'}${\"'\"'\"}@/\")\n",
    "print(r\"\"\"\\#{'}${\"}@/\"\"\")\n",
    "print('\\#{\\'}${\"}@/')\n",
    "print('\\#{'\"'\"'}${\"}@/')\n",
    "print(r'''\\#{'}${\"}@/''')\n",
    "print()\n"
   ]
  },
  {
   "cell_type": "code",
   "execution_count": 22,
   "id": "d15abf9c-9d65-4f89-96fc-1478aeffd79e",
   "metadata": {},
   "outputs": [
    {
     "name": "stdout",
     "output_type": "stream",
     "text": [
      "\n",
      "Identity:  34\n",
      "\n",
      "Type:  <class 'int'>\n",
      "\n",
      "Value:  10915552\n"
     ]
    }
   ],
   "source": [
    "#93. Write a Python program to get the Identity, Type, and Value of an object.\n",
    "\n",
    "\n",
    "x = 34\n",
    "print(\"\\nIdentity: \",x)\n",
    "print(\"\\nType: \",type(x))\n",
    "print(\"\\nValue: \",id(x))"
   ]
  },
  {
   "cell_type": "code",
   "execution_count": 23,
   "id": "31b76fb9-3f4e-4d90-a39f-b3265084b560",
   "metadata": {},
   "outputs": [
    {
     "name": "stdout",
     "output_type": "stream",
     "text": [
      "\n",
      "\n",
      "Convert bytes of the said string to a list of integers:\n",
      "[65, 98, 99]\n",
      "\n"
     ]
    }
   ],
   "source": [
    "# 94. Write a Python program to convert a byte string to a list of integers.\n",
    "\n",
    "x = b'Abc'\n",
    "print()\n",
    "print(\"\\nConvert bytes of the said string to a list of integers:\")\n",
    "print(list(x))\n",
    "print()\n"
   ]
  },
  {
   "cell_type": "code",
   "execution_count": 27,
   "id": "e85a09ae-acda-439f-99ae-a1e96887e110",
   "metadata": {},
   "outputs": [
    {
     "name": "stdout",
     "output_type": "stream",
     "text": [
      "\n",
      " Not numeric\n"
     ]
    }
   ],
   "source": [
    "# 95. Write a Python program to check whether a string is numeric.\n",
    "str = 'a123'\n",
    "#str = '123'\n",
    "if str.isnumeric():\n",
    "    print('\\n numeric')\n",
    "else:\n",
    "    print('\\n Not numeric')"
   ]
  },
  {
   "cell_type": "code",
   "execution_count": 29,
   "id": "5195c8b9-e023-4e97-8ddd-d5dd28f77632",
   "metadata": {},
   "outputs": [],
   "source": [
    "# # 96. Write a Python program to print the current call stack. \n",
    "# import traceback\n",
    "# print()\n",
    "# def f1():return abc()\n",
    "# def abc():traceback.print_stack()\n",
    "# f1()\n",
    "# print()\n"
   ]
  },
  {
   "cell_type": "code",
   "execution_count": 30,
   "id": "120fa21f-9eff-4e5c-94f0-3f5f28dfda78",
   "metadata": {},
   "outputs": [
    {
     "name": "stdout",
     "output_type": "stream",
     "text": [
      "\n",
      "ArithmeticError AssertionError AttributeError BaseException BlockingIOError BrokenPipeError BufferError BytesWarning\n",
      "ChildProcessError ConnectionAbortedError ConnectionError ConnectionRefusedError ConnectionResetError DeprecationWarning EOFError Ellipsis\n",
      "EnvironmentError Exception False FileExistsError FileNotFoundError FloatingPointError FutureWarning GeneratorExit\n",
      "IOError ImportError ImportWarning In IndentationError IndexError InterruptedError IsADirectoryError\n",
      "KeyError KeyboardInterrupt LookupError MemoryError ModuleNotFoundError NameError None NotADirectoryError\n",
      "NotImplemented NotImplementedError OSError Out OverflowError PendingDeprecationWarning PermissionError ProcessLookupError\n",
      "RecursionError ReferenceError ResourceWarning RuntimeError RuntimeWarning StopAsyncIteration StopIteration SyntaxError\n",
      "SyntaxWarning SystemError SystemExit TabError TimeoutError True TypeError UnboundLocalError\n",
      "UnicodeDecodeError UnicodeEncodeError UnicodeError UnicodeTranslateError UnicodeWarning UserWarning ValueError Warning\n",
      "ZeroDivisionError __ __IPYTHON__ ___ __build_class__ __builtin__ __builtins__ __debug__\n",
      "__doc__ __import__ __loader__ __name__ __package__ __spec__ _dh _i\n",
      "_i1 _i10 _i11 _i12 _i13 _i14 _i15 _i16\n",
      "_i17 _i18 _i19 _i2 _i20 _i21 _i22 _i23\n",
      "_i24 _i25 _i26 _i27 _i28 _i29 _i3 _i30\n",
      "_i4 _i5 _i6 _i7 _i8 _i9 _ih _ii\n",
      "_iii _oh a abc abs all any ascii\n",
      "b bin bool bytearray bytes callable char chr\n",
      "classmethod colors compile complex copyright credits delattr dict\n",
      "dir display divmod enumerate eval exec exit f1\n",
      "file_copy file_size filter float format frozenset get_ipython getattr\n",
      "globals hasattr hash help hex id input int\n",
      "isinstance issubclass iter len license list list_of_colors locals\n",
      "map max memoryview min n next num object\n",
      "oct open ord os pow print property quit\n",
      "range repr reversed round s set setattr slice\n",
      "sorted staticmethod str sum super traceback tuple type\n",
      "vars x y zip\n",
      "\n"
     ]
    }
   ],
   "source": [
    "# 97. Write a Python program to list the special variables used within the language. \n",
    "s_var_names = sorted((set(globals().keys()) | set(__builtins__.__dict__.keys())) - set('_ names i'.split()))\n",
    "print()\n",
    "print( '\\n'.join(' '.join(s_var_names[i:i+8]) for i in range(0, len(s_var_names), 8)) )\n",
    "print()"
   ]
  },
  {
   "cell_type": "code",
   "execution_count": 31,
   "id": "00b62a7b-791b-4ac5-85c2-1dfb8b4d4d5a",
   "metadata": {},
   "outputs": [
    {
     "name": "stdout",
     "output_type": "stream",
     "text": [
      "Fri Sep 23 23:16:16 2022\n"
     ]
    }
   ],
   "source": [
    "# 98. Write a Python program to get the system time. \n",
    "\n",
    "# # Note : The system time is important for debugging, network information, random number seeds,\n",
    "#or something as simple as program performance.\n",
    "import time\n",
    "print(time.ctime())\n"
   ]
  },
  {
   "cell_type": "code",
   "execution_count": 35,
   "id": "951ff242-c7d7-4fcd-b1bc-d6209f765977",
   "metadata": {},
   "outputs": [
    {
     "data": {
      "text/plain": [
       "0"
      ]
     },
     "execution_count": 35,
     "metadata": {},
     "output_type": "execute_result"
    }
   ],
   "source": [
    "# 99. Write a Python program to clear the screen or terminal.\n",
    "import os\n",
    "import time\n",
    "# for windows\n",
    "# os.system('cls')\n",
    "os.system(\"ls\")\n",
    "time.sleep(2)\n",
    "# Ubuntu version 10.10\n",
    "os.system('clear')"
   ]
  },
  {
   "cell_type": "code",
   "execution_count": 34,
   "id": "5f4c5963-edb5-418c-9a37-107b44d4b21b",
   "metadata": {},
   "outputs": [
    {
     "name": "stdout",
     "output_type": "stream",
     "text": [
      "Host name: nikita-inspiron-15-3567\n"
     ]
    }
   ],
   "source": [
    "# 100. Write a Python program to get the name of the host on which the routine is running.\n",
    "\n",
    "\n",
    "import socket\n",
    "host_name = socket.gethostname()\n",
    "print(\"Host name:\", host_name)"
   ]
  },
  {
   "cell_type": "code",
   "execution_count": null,
   "id": "d0aa139e-e827-4d57-92b0-0c8f033ecc65",
   "metadata": {},
   "outputs": [],
   "source": []
  }
 ],
 "metadata": {
  "kernelspec": {
   "display_name": "Python 3",
   "language": "python",
   "name": "python3"
  },
  "language_info": {
   "codemirror_mode": {
    "name": "ipython",
    "version": 3
   },
   "file_extension": ".py",
   "mimetype": "text/x-python",
   "name": "python",
   "nbconvert_exporter": "python",
   "pygments_lexer": "ipython3",
   "version": "3.6.9"
  }
 },
 "nbformat": 4,
 "nbformat_minor": 5
}

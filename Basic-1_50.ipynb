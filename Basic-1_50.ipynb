{
 "cells": [
  {
   "cell_type": "code",
   "execution_count": 1,
   "id": "b01c1d18",
   "metadata": {},
   "outputs": [
    {
     "name": "stdout",
     "output_type": "stream",
     "text": [
      "Ganapati Bappa Morya\n"
     ]
    }
   ],
   "source": [
    "print(\"Ganapati Bappa Morya\")"
   ]
  },
  {
   "cell_type": "markdown",
   "id": "92430283",
   "metadata": {},
   "source": [
    "1. Write a Python program to print the following string in a specific format (see the output). Go to the editor\n",
    "Sample String : \"Twinkle, twinkle, little star, How I wonder what you are! Up above the world so high, Like a diamond in the sky. Twinkle, twinkle, little star, How I wonder what you are\" Output :\n",
    "\n",
    "Twinkle, twinkle, little star,\n",
    "\tHow I wonder what you are! \n",
    "\t\tUp above the world so high,   \t\t\n",
    "\t\tLike a diamond in the sky. \n",
    "Twinkle, twinkle, little star, \n",
    "\tHow I wonder what you are\n"
   ]
  },
  {
   "cell_type": "code",
   "execution_count": 5,
   "id": "a7fb3a92",
   "metadata": {
    "scrolled": true
   },
   "outputs": [
    {
     "name": "stdout",
     "output_type": "stream",
     "text": [
      "Twinkle, twinkle, little star,\n",
      " \t How I wonder what you are!\n",
      " \t \t Up above the world so high,\n",
      " \t \t Like a diamond in the sky.\n",
      " Twinkle, twinkle, little star\n",
      " \t How I wonder what you are\n"
     ]
    }
   ],
   "source": [
    "print(\"Twinkle, twinkle, little star,\\n \\t How I wonder what you are!\\n \\t \\t Up above the world so high,\\n \\t \\t Like a diamond in the sky.\\n Twinkle, twinkle, little star\\n \\t How I wonder what you are\")"
   ]
  },
  {
   "cell_type": "markdown",
   "id": "dd9ed8b3",
   "metadata": {},
   "source": [
    "2. Write a Python program to get the Python version you are using"
   ]
  },
  {
   "cell_type": "code",
   "execution_count": 14,
   "id": "5bec2f83",
   "metadata": {},
   "outputs": [
    {
     "data": {
      "text/plain": [
       "'3.6.9'"
      ]
     },
     "execution_count": 14,
     "metadata": {},
     "output_type": "execute_result"
    }
   ],
   "source": [
    "from platform import python_version\n",
    "python_version()"
   ]
  },
  {
   "cell_type": "markdown",
   "id": "ffde136d",
   "metadata": {},
   "source": [
    "3. Write a Python program to display the current date and time.\n",
    "Sample Output :\n",
    "Current date and time :\n",
    "2014-07-05 14:34:14"
   ]
  },
  {
   "cell_type": "code",
   "execution_count": null,
   "id": "3c32f669",
   "metadata": {},
   "outputs": [],
   "source": []
  },
  {
   "cell_type": "markdown",
   "id": "78ef8d67",
   "metadata": {},
   "source": [
    "4. Write a Python program which accepts the radius of a circle from the user and compute the area. Go to the editor\n",
    "Sample Output :\n",
    "r = 1.1\n",
    "Area = 3.8013271108436504"
   ]
  },
  {
   "cell_type": "code",
   "execution_count": 38,
   "id": "22c79cec",
   "metadata": {},
   "outputs": [
    {
     "name": "stdout",
     "output_type": "stream",
     "text": [
      "Enter Radius 1.1\n",
      "3.4571428571428573\n"
     ]
    }
   ],
   "source": [
    "a = float(input(\"Enter Radius \"))\n",
    "area =(22/7)*a\n",
    "print(area)"
   ]
  },
  {
   "cell_type": "markdown",
   "id": "10594b24",
   "metadata": {},
   "source": [
    "5. Write a Python program which accepts the user's first and last name and print them in reverse order with a space between them. "
   ]
  },
  {
   "cell_type": "code",
   "execution_count": 2,
   "id": "38a2659a",
   "metadata": {},
   "outputs": [
    {
     "name": "stdin",
     "output_type": "stream",
     "text": [
      "Enter First and Last Name niki pwar\n"
     ]
    },
    {
     "ename": "IndexError",
     "evalue": "string index out of range",
     "output_type": "error",
     "traceback": [
      "\u001b[0;31m---------------------------------------------------------------------------\u001b[0m",
      "\u001b[0;31mIndexError\u001b[0m                                Traceback (most recent call last)",
      "\u001b[0;32m<ipython-input-2-7085551e9dce>\u001b[0m in \u001b[0;36m<module>\u001b[0;34m\u001b[0m\n\u001b[1;32m     12\u001b[0m \u001b[0;32mfor\u001b[0m \u001b[0mi\u001b[0m \u001b[0;32min\u001b[0m \u001b[0mrange\u001b[0m\u001b[0;34m(\u001b[0m\u001b[0mlenght\u001b[0m\u001b[0;34m)\u001b[0m\u001b[0;34m:\u001b[0m\u001b[0;34m\u001b[0m\u001b[0;34m\u001b[0m\u001b[0m\n\u001b[1;32m     13\u001b[0m     \u001b[0;32mif\u001b[0m\u001b[0;34m(\u001b[0m\u001b[0ma\u001b[0m\u001b[0;34m[\u001b[0m\u001b[0mi\u001b[0m\u001b[0;34m]\u001b[0m\u001b[0;34m!=\u001b[0m\u001b[0;34m\" \"\u001b[0m\u001b[0;34m)\u001b[0m\u001b[0;34m:\u001b[0m\u001b[0;34m\u001b[0m\u001b[0;34m\u001b[0m\u001b[0m\n\u001b[0;32m---> 14\u001b[0;31m         \u001b[0;32mif\u001b[0m\u001b[0;34m(\u001b[0m\u001b[0mresult\u001b[0m\u001b[0;34m[\u001b[0m\u001b[0mj\u001b[0m\u001b[0;34m]\u001b[0m\u001b[0;34m==\u001b[0m\u001b[0;34m\" \"\u001b[0m\u001b[0;34m)\u001b[0m\u001b[0;34m:\u001b[0m\u001b[0;34m\u001b[0m\u001b[0;34m\u001b[0m\u001b[0m\n\u001b[0m\u001b[1;32m     15\u001b[0m             \u001b[0mj\u001b[0m\u001b[0;34m-=\u001b[0m\u001b[0;36m1\u001b[0m\u001b[0;34m\u001b[0m\u001b[0;34m\u001b[0m\u001b[0m\n\u001b[1;32m     16\u001b[0m         \u001b[0mresult\u001b[0m\u001b[0;34m[\u001b[0m\u001b[0mj\u001b[0m\u001b[0;34m]\u001b[0m\u001b[0;34m=\u001b[0m\u001b[0ma\u001b[0m\u001b[0;34m[\u001b[0m\u001b[0mi\u001b[0m\u001b[0;34m]\u001b[0m\u001b[0;34m\u001b[0m\u001b[0;34m\u001b[0m\u001b[0m\n",
      "\u001b[0;31mIndexError\u001b[0m: string index out of range"
     ]
    }
   ],
   "source": [
    "a= input(\"Enter First and Last Name\")\n",
    "\n",
    "#finding blank space\n",
    "lenght = len(a)\n",
    "result = [0]*lenght\n",
    "type(result)\n",
    "for i in range(lenght):\n",
    "        if(a[i]==' '):\n",
    "            result=\" \"\n",
    "#for traversing\n",
    "j=lenght -1\n",
    "for i in range(lenght):\n",
    "    if(a[i]!=\" \"):\n",
    "        if(result[j]==\" \"):\n",
    "            j-=1\n",
    "        result[j]=a[i]\n",
    "        j-=1\n",
    "\n",
    "print(''.join(result))\n",
    "        "
   ]
  },
  {
   "cell_type": "markdown",
   "id": "ca387957-3e3a-4959-8c80-1c2290484528",
   "metadata": {},
   "source": [
    "6. Write a Python program which accepts a sequence of comma-separated numbers from user and generate a list and a tuple with those numbers. Go to the editor\n",
    "Sample data : 3, 5, 7, 23\n",
    "Output :\n",
    "List : ['3', ' 5', ' 7', ' 23']\n",
    "Tuple : ('3', ' 5', ' 7', ' 23')"
   ]
  },
  {
   "cell_type": "code",
   "execution_count": 21,
   "id": "e2311e5c-b969-41ba-9840-f6c7094896b2",
   "metadata": {},
   "outputs": [
    {
     "name": "stdin",
     "output_type": "stream",
     "text": [
      "Enter the number 4,5,8\n"
     ]
    },
    {
     "ename": "TypeError",
     "evalue": "'list' object is not callable",
     "output_type": "error",
     "traceback": [
      "\u001b[0;31m---------------------------------------------------------------------------\u001b[0m",
      "\u001b[0;31mTypeError\u001b[0m                                 Traceback (most recent call last)",
      "\u001b[0;32m<ipython-input-21-ed0d65fdc71b>\u001b[0m in \u001b[0;36m<module>\u001b[0;34m\u001b[0m\n\u001b[1;32m      1\u001b[0m \u001b[0ml\u001b[0m\u001b[0;34m=\u001b[0m \u001b[0minput\u001b[0m\u001b[0;34m(\u001b[0m\u001b[0;34m\"Enter the number\"\u001b[0m\u001b[0;34m)\u001b[0m\u001b[0;34m\u001b[0m\u001b[0;34m\u001b[0m\u001b[0m\n\u001b[1;32m      2\u001b[0m \u001b[0mlist\u001b[0m \u001b[0;34m=\u001b[0m \u001b[0ml\u001b[0m\u001b[0;34m.\u001b[0m\u001b[0msplit\u001b[0m\u001b[0;34m(\u001b[0m\u001b[0;34m\",\"\u001b[0m\u001b[0;34m)\u001b[0m\u001b[0;34m\u001b[0m\u001b[0;34m\u001b[0m\u001b[0m\n\u001b[0;32m----> 3\u001b[0;31m \u001b[0mtuple\u001b[0m \u001b[0;34m=\u001b[0m \u001b[0mtuple\u001b[0m\u001b[0;34m(\u001b[0m\u001b[0ml\u001b[0m\u001b[0;34m)\u001b[0m\u001b[0;34m\u001b[0m\u001b[0;34m\u001b[0m\u001b[0m\n\u001b[0m\u001b[1;32m      4\u001b[0m \u001b[0mprint\u001b[0m\u001b[0;34m(\u001b[0m\u001b[0mtuple\u001b[0m\u001b[0;34m)\u001b[0m\u001b[0;34m\u001b[0m\u001b[0;34m\u001b[0m\u001b[0m\n\u001b[1;32m      5\u001b[0m \u001b[0mprint\u001b[0m\u001b[0;34m(\u001b[0m\u001b[0mlist\u001b[0m\u001b[0;34m)\u001b[0m\u001b[0;34m\u001b[0m\u001b[0;34m\u001b[0m\u001b[0m\n",
      "\u001b[0;31mTypeError\u001b[0m: 'list' object is not callable"
     ]
    }
   ],
   "source": [
    "l= input(\"Enter the number\")\n",
    "list = l.split(\",\")\n",
    "tuple = tuple(l)\n",
    "print(tuple)\n",
    "print(list)"
   ]
  },
  {
   "cell_type": "code",
   "execution_count": null,
   "id": "b711b37d-e74f-4043-90ff-006f38a256fe",
   "metadata": {},
   "outputs": [],
   "source": []
  },
  {
   "cell_type": "markdown",
   "id": "0e77b020-ab6b-442b-9560-085d2883f9b1",
   "metadata": {},
   "source": [
    "7. Write a Python program to accept a filename from the user and print the extension of that. Go to the editor\n",
    "Sample filename : abc.java\n",
    "Output : java"
   ]
  },
  {
   "cell_type": "code",
   "execution_count": 25,
   "id": "89210e27-60c0-40a6-accc-715cc6d8e85a",
   "metadata": {},
   "outputs": [
    {
     "name": "stdin",
     "output_type": "stream",
     "text": [
      "Enter file  name python_file.py\n"
     ]
    },
    {
     "name": "stdout",
     "output_type": "stream",
     "text": [
      "py\n"
     ]
    }
   ],
   "source": [
    "filename= input(\"Enter file  name\")\n",
    "ext_file = filename.split('.')\n",
    "print(ext_file[-1])"
   ]
  },
  {
   "cell_type": "markdown",
   "id": "2ff95a8b-c466-47b6-aa1b-ee0d73f4fca2",
   "metadata": {},
   "source": [
    "8. Write a Python program to display the first and last colors from the following list. Go to the editor\n",
    "color_list = [\"Red\",\"Green\",\"White\" ,\"Black\"]"
   ]
  },
  {
   "cell_type": "code",
   "execution_count": 26,
   "id": "f1ab543a-b87f-4f0f-b945-284d0b93d396",
   "metadata": {},
   "outputs": [
    {
     "name": "stdout",
     "output_type": "stream",
     "text": [
      "Red Black\n"
     ]
    }
   ],
   "source": [
    "color_list = [\"Red\",\"Green\",\"White\" ,\"Black\"]\n",
    "print(color_list[0],color_list[-1])"
   ]
  },
  {
   "cell_type": "markdown",
   "id": "dcae697a-c34d-4c54-b3e9-c54004641c83",
   "metadata": {},
   "source": [
    "9. Write a Python program to display the examination schedule. (extract the date from exam_st_date). Go to the editor\n",
    "exam_st_date = (11, 12, 2014)\n",
    "Sample Output : The examination will start from : 11 / 12 / 2014"
   ]
  },
  {
   "cell_type": "code",
   "execution_count": 31,
   "id": "9c91d43f-608b-400c-a608-98027ff35913",
   "metadata": {},
   "outputs": [
    {
     "name": "stdout",
     "output_type": "stream",
     "text": [
      "The examination will start from : 11 12 2014\n"
     ]
    }
   ],
   "source": [
    "exam_st_date = (11, 12, 2014)\n",
    "print(\"The examination will start from : %i %i %i\"%exam_st_date)"
   ]
  },
  {
   "cell_type": "markdown",
   "id": "8990b3b9-3129-4826-ae8d-836b14016bd2",
   "metadata": {},
   "source": [
    "10. Write a Python program that accepts an integer (n) and computes the value of n+nn+nnn. Go to the editor\n",
    "Sample value of n is 5\n",
    "Expected Result : 615"
   ]
  },
  {
   "cell_type": "code",
   "execution_count": 6,
   "id": "d0269632-fe1b-4a2e-bcf9-e229cc2dbb11",
   "metadata": {},
   "outputs": [
    {
     "name": "stdout",
     "output_type": "stream",
     "text": [
      "Enter  number5\n",
      "615\n"
     ]
    }
   ],
   "source": [
    "n=int(input(\"Enter  number\"))\n",
    "no1=int(\"%s\" %n)\n",
    "no2=int(\"%s%s\" %(n,n))\n",
    "no3=int(\"%s%s%s\" %(n,n,n))\n",
    "print(no1+(no2)+(no3))"
   ]
  },
  {
   "cell_type": "markdown",
   "id": "89a4b5b7",
   "metadata": {},
   "source": [
    "11. Write a Python program to print the documents (syntax, description etc.) of Python built-in function(s).\n",
    "Sample function : abs()\n",
    "Expected Result :\n",
    "abs(number) -> number\n",
    "Return the absolute value of the argument."
   ]
  },
  {
   "cell_type": "code",
   "execution_count": 10,
   "id": "0e834a7f",
   "metadata": {},
   "outputs": [
    {
     "name": "stdout",
     "output_type": "stream",
     "text": [
      "Return the absolute value of the argument.\n"
     ]
    }
   ],
   "source": [
    "print(abs.__doc__)"
   ]
  },
  {
   "cell_type": "markdown",
   "id": "600d7596",
   "metadata": {},
   "source": [
    "12. Write a Python program to print the calendar of a given month and year.\n",
    "Note : Use 'calendar' module. "
   ]
  },
  {
   "cell_type": "code",
   "execution_count": 17,
   "id": "b205dd29",
   "metadata": {},
   "outputs": [
    {
     "name": "stdout",
     "output_type": "stream",
     "text": [
      "Enter month 1\n",
      "Enter year 2001\n",
      "Calender \n",
      "      January 2001\n",
      "Mo Tu We Th Fr Sa Su\n",
      " 1  2  3  4  5  6  7\n",
      " 8  9 10 11 12 13 14\n",
      "15 16 17 18 19 20 21\n",
      "22 23 24 25 26 27 28\n",
      "29 30 31\n",
      "\n"
     ]
    }
   ],
   "source": [
    "import calendar as cal\n",
    "month1 = int(input(\"Enter month \"))\n",
    "year = int(input(\"Enter year \"))\n",
    "\n",
    "print(\"Calender \\n \" ,cal.month(year,month1))"
   ]
  },
  {
   "cell_type": "markdown",
   "id": "a9b3941f",
   "metadata": {},
   "source": [
    "13. Write a Python program to print the following 'here document'. Go to the editor\n",
    "Sample string :\n",
    "a string that you \"don't\" have to escape\n",
    "This\n",
    "is a ....... multi-line\n",
    "heredoc string --------> example"
   ]
  },
  {
   "cell_type": "code",
   "execution_count": 18,
   "id": "2f30e61a",
   "metadata": {},
   "outputs": [
    {
     "name": "stdout",
     "output_type": "stream",
     "text": [
      "This\n",
      "is a ....... multi-line\n",
      "heredoc string --------> example\n"
     ]
    }
   ],
   "source": [
    "print('''This\n",
    "is a ....... multi-line\n",
    "heredoc string --------> example''')"
   ]
  },
  {
   "cell_type": "markdown",
   "id": "d9abf95a",
   "metadata": {},
   "source": [
    "14. Write a Python program to calculate number of days between two dates.\n",
    "Sample dates : (2014, 7, 2), (2014, 7, 11)\n",
    "Expected output : 9 days "
   ]
  },
  {
   "cell_type": "code",
   "execution_count": 33,
   "id": "00adadb3",
   "metadata": {},
   "outputs": [
    {
     "name": "stdout",
     "output_type": "stream",
     "text": [
      "9 days, 0:00:00\n"
     ]
    }
   ],
   "source": [
    "from datetime import date\n",
    "date1 = date(2014, 7, 2)\n",
    "date2 = date(2014, 7, 11)\n",
    "\n",
    "days = date2-date1\n",
    "print(days)\n",
    "\n",
    "   # MINYEAR <= year <= MAXYEAR\n",
    "    #1 <= month <= 12\n",
    "    #1 <= day <= number of days in the given month and year\n"
   ]
  },
  {
   "cell_type": "markdown",
   "id": "ae8c836c",
   "metadata": {},
   "source": [
    "15. Write a Python program to get the volume of a sphere with radius 6."
   ]
  },
  {
   "cell_type": "code",
   "execution_count": 41,
   "id": "07f87de0",
   "metadata": {},
   "outputs": [
    {
     "name": "stdout",
     "output_type": "stream",
     "text": [
      "Enter radius of sphere5\n",
      "523.3333333333334\n"
     ]
    }
   ],
   "source": [
    "radius=float(input(\"Enter radius of sphere\"))\n",
    "volume = 4.0/3.0 *3.14 *(radius**3)\n",
    "print(volume)"
   ]
  },
  {
   "cell_type": "markdown",
   "id": "8c72bde6",
   "metadata": {},
   "source": [
    "16. Write a Python program to get the difference between a given number and 17, if the number is greater than 17 return double the absolute difference."
   ]
  },
  {
   "cell_type": "code",
   "execution_count": 52,
   "id": "e69a5fb5",
   "metadata": {},
   "outputs": [
    {
     "name": "stdout",
     "output_type": "stream",
     "text": [
      "Enter number14\n",
      "3\n"
     ]
    }
   ],
   "source": [
    "no = int(input(\"Enter number\"))\n",
    "if(no>17):\n",
    "    diff= no-17\n",
    "    print(diff*2)\n",
    "else:\n",
    "    dif1=17-no\n",
    "    print(dif1)\n",
    "    \n",
    "    "
   ]
  },
  {
   "cell_type": "markdown",
   "id": "4d801fc4",
   "metadata": {},
   "source": [
    "17. Write a Python program to test whether a number is within 100 of 1000 or 2000"
   ]
  },
  {
   "cell_type": "code",
   "execution_count": 59,
   "id": "4ec4d037",
   "metadata": {},
   "outputs": [
    {
     "name": "stdout",
     "output_type": "stream",
     "text": [
      "Enter number950\n",
      "Number between 100 of 1000 or 2000  950\n"
     ]
    }
   ],
   "source": [
    "n=int(input(\"Enter number\"))\n",
    "if((1000-n<=100) or (2000-n<=100)):\n",
    "    print(\"Number between 100 of 1000 or 2000 \",n)\n",
    "else:\n",
    "    print(\"No\")"
   ]
  },
  {
   "cell_type": "markdown",
   "id": "20ab4232",
   "metadata": {},
   "source": [
    "18. Write a Python program to calculate the sum of three given numbers, if the values are equal then return three times of their sum"
   ]
  },
  {
   "cell_type": "code",
   "execution_count": 60,
   "id": "214343b1",
   "metadata": {},
   "outputs": [
    {
     "name": "stdout",
     "output_type": "stream",
     "text": [
      "Enter first no5\n",
      "Enter second no5\n",
      "Enter third no5\n",
      "number  45\n"
     ]
    }
   ],
   "source": [
    "n1=int(input(\"Enter first no\"))\n",
    "n2=int(input(\"Enter second no\"))\n",
    "n3=int(input(\"Enter third no\"))\n",
    "\n",
    "if(n1==n2==n3):\n",
    "    print(\"number \" ,(n1+n2+n3)*3)"
   ]
  },
  {
   "cell_type": "markdown",
   "id": "fa116803",
   "metadata": {},
   "source": [
    "19. Write a Python program to get a new string from a given string where \"Is\" has been added to the front. If the given string already begins with \"Is\" then return the string unchanged. "
   ]
  },
  {
   "cell_type": "code",
   "execution_count": 67,
   "id": "01fe3e8e",
   "metadata": {},
   "outputs": [
    {
     "name": "stdout",
     "output_type": "stream",
     "text": [
      "Enter the stringhuinj byf\n",
      "Ishuinj byf\n"
     ]
    }
   ],
   "source": [
    "\n",
    "def check_is(string):\n",
    "    if(len(string)<=2 and string[:2]=='Is'):\n",
    "        return(string)\n",
    "    else:\n",
    "        return(\"Is\" + string )\n",
    "\n",
    "string = input(\"Enter the string\")\n",
    "print(check_is(string))\n"
   ]
  },
  {
   "cell_type": "markdown",
   "id": "e48b76a8",
   "metadata": {},
   "source": [
    "20. Write a Python program to get a string which is n (non-negative integer) copies of a given string. "
   ]
  },
  {
   "cell_type": "code",
   "execution_count": 71,
   "id": "dfbd3138",
   "metadata": {},
   "outputs": [
    {
     "name": "stdout",
     "output_type": "stream",
     "text": [
      "Enter the stringdfs\n",
      "Enter the number2\n",
      "dfsdfs\n"
     ]
    }
   ],
   "source": [
    "string = input(\"Enter the string\")\n",
    "number = int(input(\"Enter the number\"))\n",
    "result = \"\"\n",
    "if number <=0:\n",
    "    print(\"Invalid number\")\n",
    "else:\n",
    "    for i in range(number):\n",
    "        result=result+string\n",
    "    print(result)"
   ]
  },
  {
   "cell_type": "markdown",
   "id": "039d9525",
   "metadata": {},
   "source": [
    "21. Write a Python program to find whether a given number (accept from the user) is even or odd, print out an appropriate message to the user."
   ]
  },
  {
   "cell_type": "code",
   "execution_count": 76,
   "id": "b1475bae",
   "metadata": {},
   "outputs": [
    {
     "name": "stdout",
     "output_type": "stream",
     "text": [
      "Enter the number5\n",
      "ODD\n"
     ]
    }
   ],
   "source": [
    "number = int(input(\"Enter the number\"))\n",
    "if(number%2==0):\n",
    "    print(\"Even\")\n",
    "else:\n",
    "    print(\"ODD\")"
   ]
  },
  {
   "cell_type": "markdown",
   "id": "a9e8b80a",
   "metadata": {},
   "source": [
    "22. Write a Python program to count the number 4 in a given list. "
   ]
  },
  {
   "cell_type": "code",
   "execution_count": 85,
   "id": "f45311b7",
   "metadata": {},
   "outputs": [
    {
     "name": "stdout",
     "output_type": "stream",
     "text": [
      "Enter the number5,5,3,4,5,4,4\n",
      "3\n"
     ]
    }
   ],
   "source": [
    "n=input(\"Enter the number\")\n",
    "list = n.split(\",\")\n",
    "count=0\n",
    "#for i in range(len(list)):\n",
    "for list1 in list:\n",
    "    if(list1=='4'):\n",
    "        count+=1\n",
    "print(count)"
   ]
  },
  {
   "cell_type": "markdown",
   "id": "171c2b9a",
   "metadata": {},
   "source": [
    "23. Write a Python program to get the n (non-negative integer) copies of the first 2 characters of a given string. Return the n copies of the whole string if the length is less than 2."
   ]
  },
  {
   "cell_type": "code",
   "execution_count": 93,
   "id": "dc3580d8",
   "metadata": {},
   "outputs": [
    {
     "name": "stdout",
     "output_type": "stream",
     "text": [
      "Enter the stringabcd\n",
      "Enter the n 5\n",
      "abababab\n"
     ]
    }
   ],
   "source": [
    "stri = input(\"Enter the string\")\n",
    "n= int(input(\"Enter the n \"))\n",
    "result = \"\"\n",
    "nrepeats=2\n",
    "if(len(stri)<=1):\n",
    "    print(stri)\n",
    "else:\n",
    "    for i in range(len(stri)):\n",
    "        result=result+stri[:2]\n",
    "    print(result)\n",
    "    "
   ]
  },
  {
   "cell_type": "markdown",
   "id": "838e9f73",
   "metadata": {},
   "source": [
    "24. Write a Python program to test whether a passed letter is a vowel or not"
   ]
  },
  {
   "cell_type": "code",
   "execution_count": 97,
   "id": "8d99ae3f",
   "metadata": {},
   "outputs": [
    {
     "name": "stdout",
     "output_type": "stream",
     "text": [
      "Enter the lettera\n",
      "Vowel\n"
     ]
    }
   ],
   "source": [
    "letter = input(\"Enter the letter\")\n",
    "\n",
    "def vowels_check(letter):\n",
    "    list = ['a','e','i','o','u']\n",
    "    for list in list:\n",
    "        if(letter==list):\n",
    "            return 0\n",
    "        else:\n",
    "            return -1\n",
    "\n",
    "if(vowels_check(letter)==0):\n",
    "    print(\"Vowel\")\n",
    "else:\n",
    "    print(\"Constant\")"
   ]
  },
  {
   "cell_type": "markdown",
   "id": "570645f9",
   "metadata": {},
   "source": [
    "25. Write a Python program to check whether a specified value is contained in a group of values. "
   ]
  },
  {
   "cell_type": "code",
   "execution_count": 10,
   "id": "35a0f6a7",
   "metadata": {},
   "outputs": [
    {
     "name": "stdout",
     "output_type": "stream",
     "text": [
      "Enter the number4\n",
      "True\n"
     ]
    }
   ],
   "source": [
    "n = int(input(\"Enter the number\"))\n",
    "def check_values(n):\n",
    "    list = [4,6,8,3,2,9]\n",
    "    for num in list:\n",
    "        if(num==n):\n",
    "            return 0\n",
    "        else:\n",
    "            return -1\n",
    "\n",
    "if(check_values(n)==0):\n",
    "    print(\"True\")\n",
    "else:\n",
    "    print(\"False\")\n"
   ]
  },
  {
   "cell_type": "markdown",
   "id": "ca9da5a5",
   "metadata": {},
   "source": [
    "26. Write a Python program to create a histogram from a given list of integers. "
   ]
  },
  {
   "cell_type": "code",
   "execution_count": 32,
   "id": "b2914d5f",
   "metadata": {},
   "outputs": [
    {
     "name": "stdout",
     "output_type": "stream",
     "text": [
      "Enter the input4,5\n",
      "****\n",
      "*****\n"
     ]
    }
   ],
   "source": [
    "nums =  (input(\"Enter the input\"))\n",
    "list = nums.split(\",\")\n",
    "\n",
    "def make_histogram(no):\n",
    "    for num in list:\n",
    "        output=\"*\"\n",
    "        k=int(num)\n",
    "        while(k > 1):\n",
    "            output+='*'\n",
    "            k-=1\n",
    "        print(output)\n",
    "   \n",
    "make_histogram(list)"
   ]
  },
  {
   "cell_type": "markdown",
   "id": "28401635",
   "metadata": {},
   "source": [
    "27. Write a Python program to concatenate all elements in a list into a string and return it. "
   ]
  },
  {
   "cell_type": "code",
   "execution_count": 1,
   "id": "6ccfb0c4",
   "metadata": {},
   "outputs": [
    {
     "name": "stdout",
     "output_type": "stream",
     "text": [
      "Enter the input4,5,8,6,2\n",
      "45862\n"
     ]
    }
   ],
   "source": [
    "nums =  (input(\"Enter the input\"))\n",
    "list = nums.split(\",\")\n",
    "\n",
    "def list_string(lis):\n",
    "    output=\"\"\n",
    "    for no in lis:\n",
    "        output+=no\n",
    "    print(output)\n",
    "\n",
    "list_string(list)"
   ]
  },
  {
   "cell_type": "markdown",
   "id": "17d0bf4e",
   "metadata": {},
   "source": [
    "28. Write a Python program to print all even numbers from a given numbers list in the same order and stop the printing if any numbers that come after 237 in the sequence. \n",
    "Sample numbers list :\n",
    "\n",
    "numbers = [    \n",
    "    386, 462, 47, 418, 907, 344, 236, 375, 823, 566, 597, 978, 328, 615, 953, 345, \n",
    "    399, 162, 758, 219, 918, 237, 412, 566, 826, 248, 866, 950, 626, 949, 687, 217, \n",
    "    815, 67, 104, 58, 512, 24, 892, 894, 767, 553, 81, 379, 843, 831, 445, 742, 717, \n",
    "    958,743, 527\n",
    "    ]\n"
   ]
  },
  {
   "cell_type": "code",
   "execution_count": 3,
   "id": "5a1cd13a",
   "metadata": {},
   "outputs": [
    {
     "name": "stdout",
     "output_type": "stream",
     "text": [
      "236\n",
      "162\n",
      "104\n",
      "58\n",
      "24\n"
     ]
    }
   ],
   "source": [
    "numbers = [\n",
    "386, 462, 47, 418, 907, 344, 236, 375, 823, 566, 597, 978, 328, 615, 953, 345, 399, 162, 758, 219, 918, 237, 412, 566, 826, 248, 866, 950, 626, 949, 687, 217, 815, 67, 104, 58, 512, 24, 892, 894, 767, 553, 81, 379, 843, 831, 445, 742, 717, 958,743, 527 ]\n",
    "\n",
    "for num in numbers:\n",
    "    if(num%2==0 and num < 237):\n",
    "        print(num)"
   ]
  },
  {
   "cell_type": "markdown",
   "id": "ef4cd15d",
   "metadata": {},
   "source": [
    "29. Write a Python program to print out a set containing all the colors from color_list_1 which are not present in color_list_2. Go to the editor\n",
    "Test Data :\n",
    "color_list_1 = set([\"White\", \"Black\", \"Red\"])\n",
    "color_list_2 = set([\"Red\", \"Green\"])\n",
    "Expected Output :\n",
    "{'Black', 'White'}"
   ]
  },
  {
   "cell_type": "code",
   "execution_count": 6,
   "id": "700fad5f",
   "metadata": {},
   "outputs": [
    {
     "name": "stdout",
     "output_type": "stream",
     "text": [
      "{'White', 'Black'}\n"
     ]
    }
   ],
   "source": [
    "color_list_1 = set([\"White\", \"Black\", \"Red\"])\n",
    "color_list_2 = set([\"Red\", \"Green\"])\n",
    "print(color_list_1.difference(color_list_2))"
   ]
  },
  {
   "cell_type": "markdown",
   "id": "b23e40fd",
   "metadata": {},
   "source": [
    "30. Write a Python program that will accept the base and height of a triangle and compute the area."
   ]
  },
  {
   "cell_type": "code",
   "execution_count": 8,
   "id": "380fcbd1",
   "metadata": {},
   "outputs": [
    {
     "name": "stdout",
     "output_type": "stream",
     "text": [
      "Enter the base 4\n",
      "Enter the height5\n",
      "10.0\n"
     ]
    }
   ],
   "source": [
    "base = int(input(\"Enter the base \"))\n",
    "height = int(input(\"Enter the height\"))\n",
    "\n",
    "area= (1.0/2.0)*(base)*(height)\n",
    "\n",
    "print(area)"
   ]
  },
  {
   "cell_type": "markdown",
   "id": "21ddf2fc",
   "metadata": {},
   "source": [
    "31. Write a Python program to compute the greatest common divisor (GCD) of two positive integers. "
   ]
  },
  {
   "cell_type": "code",
   "execution_count": 17,
   "id": "864bd89e",
   "metadata": {},
   "outputs": [
    {
     "name": "stdout",
     "output_type": "stream",
     "text": [
      "Enter the no1 336\n",
      "Enter the no2360\n",
      "24\n"
     ]
    }
   ],
   "source": [
    "#range(start,stop,step)\n",
    "no1= int(input(\"Enter the no1 \"))\n",
    "no2= int(input(\"Enter the no2\"))\n",
    "\n",
    "def gcd_finding(x,y):\n",
    "    gcd=1\n",
    "    if(x%y==0):\n",
    "        return y\n",
    "    for k in range(int(y/2),0,-1):\n",
    "        if(x%k==0 and y%k==0):\n",
    "            gcd=k;\n",
    "            break\n",
    "    print(gcd)\n",
    "    \n",
    "gcd_finding(no1,no2)"
   ]
  },
  {
   "cell_type": "markdown",
   "id": "8458c107",
   "metadata": {},
   "source": [
    "32. Write a Python program to get the least common multiple (LCM) of two positive integers"
   ]
  },
  {
   "cell_type": "code",
   "execution_count": 18,
   "id": "a2712ef2",
   "metadata": {},
   "outputs": [
    {
     "name": "stdout",
     "output_type": "stream",
     "text": [
      "12\n",
      "255\n"
     ]
    }
   ],
   "source": [
    "\n",
    "def lcm(x, y):\n",
    "    if x > y:\n",
    "        z = x\n",
    "    else:\n",
    "        z = y\n",
    "    while(True):\n",
    "        if((z % x == 0) and (z % y == 0)):\n",
    "            lcm = z\n",
    "            break\n",
    "        z += 1\n",
    "    return lcm\n",
    "\n",
    "print(lcm(4, 6))\n",
    "print(lcm(15, 17))\n"
   ]
  },
  {
   "cell_type": "markdown",
   "id": "29038793",
   "metadata": {},
   "source": [
    "33. Write a Python program to sum of three given integers. However, if two values are equal sum will be zero."
   ]
  },
  {
   "cell_type": "code",
   "execution_count": 28,
   "id": "15d5a945",
   "metadata": {},
   "outputs": [
    {
     "name": "stdout",
     "output_type": "stream",
     "text": [
      "Enter the three number4,5,1\n",
      "10\n"
     ]
    }
   ],
   "source": [
    "nums =  (input(\"Enter the three number\"))\n",
    "list = nums.split(\",\")\n",
    "s=0\n",
    "if(list[0]==list[1] or list[0]==list[2] or list[1]==list[2]):\n",
    "    print(\"Zero\")\n",
    "else:\n",
    "    for n in list:\n",
    "        #k=int(n)\n",
    "        s=s+int(n)\n",
    "    print(s)"
   ]
  },
  {
   "cell_type": "markdown",
   "id": "db83f303",
   "metadata": {},
   "source": [
    "34. Write a Python program to sum of two given integers. However, if the sum is between 15 to 20 it will return 20."
   ]
  },
  {
   "cell_type": "code",
   "execution_count": 31,
   "id": "cbe0d14e",
   "metadata": {},
   "outputs": [
    {
     "name": "stdout",
     "output_type": "stream",
     "text": [
      "Enter the no1 10\n",
      "Enter the no26\n",
      "20\n"
     ]
    }
   ],
   "source": [
    "no1= int(input(\"Enter the no1 \"))\n",
    "no2= int(input(\"Enter the no2\"))\n",
    "k=no1+no2\n",
    "if(k<20 and k>15):\n",
    "    print(\"20\")\n",
    "else:\n",
    "    print(k)"
   ]
  },
  {
   "cell_type": "markdown",
   "id": "940ec9d4",
   "metadata": {},
   "source": [
    "35. Write a Python program that will return true if the two given integer values are equal or their sum or difference is 5"
   ]
  },
  {
   "cell_type": "code",
   "execution_count": 37,
   "id": "4423cb7d",
   "metadata": {},
   "outputs": [
    {
     "name": "stdout",
     "output_type": "stream",
     "text": [
      "Enter the no1 10\n",
      "Enter the no25\n",
      "True\n"
     ]
    }
   ],
   "source": [
    "no1= int(input(\"Enter the no1 \"))\n",
    "no2= int(input(\"Enter the no2\"))\n",
    "if(no1>no2):\n",
    "    diff=no1-no2\n",
    "else:\n",
    "    diff=no2-no1\n",
    "if(no1==no2 or (no1+no2)==5 or diff==5):\n",
    "    print(\"True\")\n"
   ]
  },
  {
   "cell_type": "markdown",
   "id": "5e9b2a21",
   "metadata": {},
   "source": [
    "36. Write a Python program to add two objects if both objects are an integer type. "
   ]
  },
  {
   "cell_type": "code",
   "execution_count": null,
   "id": "03fd7af8",
   "metadata": {},
   "outputs": [],
   "source": [
    "def add_numbers(a, b):\n",
    "    if not (isinstance(a, int) and isinstance(b, int)):\n",
    "        return \"Inputs must be integers!\"\n",
    "return a + b\n",
    "print(add_numbers(10, 20))\n",
    "print(add_numbers(10, 20.23))\n",
    "print(add_numbers('5', 6))\n",
    "print(add_numbers('5', '6'))\n"
   ]
  },
  {
   "cell_type": "markdown",
   "id": "4aa16bb5",
   "metadata": {},
   "source": [
    "37. Write a Python program to display your details like name, age, address in three different lines."
   ]
  },
  {
   "cell_type": "code",
   "execution_count": 39,
   "id": "7dee34bc",
   "metadata": {},
   "outputs": [
    {
     "name": "stdout",
     "output_type": "stream",
     "text": [
      "Name: Simon\n",
      "Age: 19\n",
      "Address: Bangalore, Karnataka, India\n"
     ]
    }
   ],
   "source": [
    "def personal_details():\n",
    "    name, age = \"Simon\", 19\n",
    "    address = \"Bangalore, Karnataka, India\"\n",
    "    print(\"Name: {}\\nAge: {}\\nAddress: {}\".format(name, age, address))\n",
    "\n",
    "personal_details()\n"
   ]
  },
  {
   "cell_type": "markdown",
   "id": "1ac8b27b",
   "metadata": {},
   "source": [
    "38. Write a Python program to solve (x + y) * (x + y). Go to the editor\n",
    "Test Data : x = 4, y = 3\n",
    "Expected Output : (4 + 3) ^ 2) = 49"
   ]
  },
  {
   "cell_type": "code",
   "execution_count": 46,
   "id": "cd369240",
   "metadata": {},
   "outputs": [
    {
     "name": "stdout",
     "output_type": "stream",
     "text": [
      "Enter the x4\n",
      "Enter the y3\n",
      "49\n"
     ]
    }
   ],
   "source": [
    "x= int(input(\"Enter the x\"))\n",
    "y= int(input(\"Enter the y\"))\n",
    "output=((x+y)**2)             #(x+y)*(x+y)\n",
    "print(output)"
   ]
  },
  {
   "cell_type": "markdown",
   "id": "cb7f35fa",
   "metadata": {},
   "source": [
    "39. Write a Python program to compute the future value of a specified principal amount, rate of interest, and a number of years. Go to the editor\n",
    "Test Data : amt = 10000, int = 3.5, years = 7\n",
    "Expected Output : 12722.79"
   ]
  },
  {
   "cell_type": "code",
   "execution_count": 64,
   "id": "81cb6cef",
   "metadata": {},
   "outputs": [
    {
     "name": "stdout",
     "output_type": "stream",
     "text": [
      "Enter the principal amount10000\n",
      "Enter the rate of interst3.5\n",
      "Enter the years7\n",
      "12722.792627665729\n"
     ]
    }
   ],
   "source": [
    "principal_amount = input(\"Enter the principal amount\")\n",
    "interest = input(\"Enter the rate of interst\")\n",
    "years = input(\"Enter the years\")\n",
    "\n",
    "#FV = P(1 + r/n)^nt\n",
    "\n",
    "future_value = float(principal_amount)*float((1+(0.01*float(interest)))**float(years))\n",
    "print(future_value)\n",
    "                                 "
   ]
  },
  {
   "cell_type": "markdown",
   "id": "11e7e850",
   "metadata": {},
   "source": [
    "40. Write a Python program to compute the distance between the points (x1, y1) and (x2, y2)"
   ]
  },
  {
   "cell_type": "code",
   "execution_count": 65,
   "id": "4ad5f200",
   "metadata": {},
   "outputs": [
    {
     "name": "stdout",
     "output_type": "stream",
     "text": [
      "5.0\n"
     ]
    }
   ],
   "source": [
    "#distance = y2-y1/x2-x1\n",
    "\n",
    "def distance_formula(x1,x2,y1,y2):\n",
    "    distance = (y2-y1)/(x2-x1)\n",
    "    print(distance)\n",
    "    \n",
    "distance_formula(8,7,9,4)"
   ]
  },
  {
   "cell_type": "markdown",
   "id": "7e2ee324",
   "metadata": {},
   "source": [
    "41. Write a Python program to check whether a file exists. Go to the editor"
   ]
  },
  {
   "cell_type": "code",
   "execution_count": 70,
   "id": "8300fd29",
   "metadata": {},
   "outputs": [
    {
     "name": "stdout",
     "output_type": "stream",
     "text": [
      "File found\n"
     ]
    }
   ],
   "source": [
    "\n",
    "\n",
    "my_file = open('/home/nikita/Desktop/projects/Python/Untitled.ipynb')\n",
    "try:\n",
    "    my_file.close()\n",
    "    print(\"File found\")\n",
    "except FileNotFoundError:\n",
    "    print(\"File not found\")"
   ]
  },
  {
   "cell_type": "markdown",
   "id": "ee6c8807",
   "metadata": {},
   "source": [
    "42. Write a Python program to determine if a Python shell is executing in 32bit or 64bit mode on OS. "
   ]
  },
  {
   "cell_type": "code",
   "execution_count": 71,
   "id": "46c00789",
   "metadata": {},
   "outputs": [
    {
     "name": "stdout",
     "output_type": "stream",
     "text": [
      "64bit\n",
      "64\n"
     ]
    }
   ],
   "source": [
    "import platform, struct\n",
    "print(platform.architecture()[0])\n",
    "print(struct.calcsize(\"P\") * 8)\n"
   ]
  },
  {
   "cell_type": "markdown",
   "id": "553c16bc",
   "metadata": {},
   "source": [
    "43. Write a Python program to get OS name, platform and release information"
   ]
  },
  {
   "cell_type": "code",
   "execution_count": 77,
   "id": "70b00631",
   "metadata": {},
   "outputs": [
    {
     "name": "stdout",
     "output_type": "stream",
     "text": [
      "posix\n",
      "<function system at 0x7f11f1103510>\n",
      "<function release at 0x7f11f1103620>\n"
     ]
    }
   ],
   "source": [
    "import platform, struct,os\n",
    "print(os.name)\n",
    "print(platform.system)\n",
    "print(platform.release)"
   ]
  },
  {
   "cell_type": "markdown",
   "id": "c7a5caa2",
   "metadata": {},
   "source": [
    "44. Write a Python program to locate Python site-packages."
   ]
  },
  {
   "cell_type": "code",
   "execution_count": 79,
   "id": "9610dc12",
   "metadata": {},
   "outputs": [
    {
     "name": "stdout",
     "output_type": "stream",
     "text": [
      "<function getsitepackages at 0x7f11f35df950>\n"
     ]
    }
   ],
   "source": [
    "import site\n",
    "print(site.getsitepackages)"
   ]
  },
  {
   "cell_type": "markdown",
   "id": "0a6aca84",
   "metadata": {},
   "source": [
    "45. Write a Python program to call an external command."
   ]
  },
  {
   "cell_type": "code",
   "execution_count": 91,
   "id": "590cb65d",
   "metadata": {},
   "outputs": [
    {
     "name": "stdout",
     "output_type": "stream",
     "text": [
      "0\n"
     ]
    }
   ],
   "source": [
    "from subprocess import call\n",
    "\n",
    "call([\"ls\"])\n",
    "\n",
    "\n",
    "import os\n",
    "print(os.system('ls -l'))\n",
    "\n"
   ]
  },
  {
   "cell_type": "markdown",
   "id": "199fec1f",
   "metadata": {},
   "source": [
    "46. Write a python program to get the path and name of the file that is currently executing. Go to the editor"
   ]
  },
  {
   "cell_type": "code",
   "execution_count": 97,
   "id": "c3bef562",
   "metadata": {},
   "outputs": [
    {
     "name": "stdout",
     "output_type": "stream",
     "text": [
      "Current file :  <module 'posixpath' from '/usr/lib/python3.6/posixpath.py'>\n"
     ]
    }
   ],
   "source": [
    "import os\n",
    "\n",
    "print(\"Current file : \",os.path)"
   ]
  },
  {
   "cell_type": "markdown",
   "id": "aa965eb4",
   "metadata": {},
   "source": [
    "47. Write a Python program to find out the number of CPUs using. Go to the editor"
   ]
  },
  {
   "cell_type": "code",
   "execution_count": 98,
   "id": "7ae58bd0",
   "metadata": {},
   "outputs": [
    {
     "name": "stdout",
     "output_type": "stream",
     "text": [
      "4\n"
     ]
    }
   ],
   "source": [
    "import multiprocessing\n",
    "print(multiprocessing.cpu_count())\n"
   ]
  },
  {
   "cell_type": "code",
   "execution_count": null,
   "id": "08c38041",
   "metadata": {},
   "outputs": [],
   "source": [
    "48. Write a Python program to parse a string to Float or Integer. Go to the editor"
   ]
  },
  {
   "cell_type": "code",
   "execution_count": 105,
   "id": "ba172944",
   "metadata": {},
   "outputs": [
    {
     "name": "stdout",
     "output_type": "stream",
     "text": [
      "This is string <class 'str'>\n",
      "246.2458\n",
      "246\n"
     ]
    }
   ],
   "source": [
    "string = \"This is string\"\n",
    "print(string,type(string))\n",
    "\n",
    "#only for integers coversion is possible from string to float or int\n",
    "\n",
    "n = \"246.2458\"\n",
    "print(float(n))\n",
    "print(int(float(n)))\n"
   ]
  },
  {
   "cell_type": "code",
   "execution_count": null,
   "id": "55ab5729",
   "metadata": {},
   "outputs": [],
   "source": [
    "49. Write a Python program to list all files in a directory in Python. Go to the editor"
   ]
  },
  {
   "cell_type": "code",
   "execution_count": 106,
   "id": "2f145097",
   "metadata": {},
   "outputs": [
    {
     "ename": "FileNotFoundError",
     "evalue": "[Errno 2] No such file or directory: '/home/students'",
     "output_type": "error",
     "traceback": [
      "\u001b[0;31m---------------------------------------------------------------------------\u001b[0m",
      "\u001b[0;31mFileNotFoundError\u001b[0m                         Traceback (most recent call last)",
      "\u001b[0;32m<ipython-input-106-45e649a2dcc7>\u001b[0m in \u001b[0;36m<module>\u001b[0;34m\u001b[0m\n\u001b[1;32m      1\u001b[0m \u001b[0;32mfrom\u001b[0m \u001b[0mos\u001b[0m \u001b[0;32mimport\u001b[0m \u001b[0mlistdir\u001b[0m\u001b[0;34m\u001b[0m\u001b[0;34m\u001b[0m\u001b[0m\n\u001b[1;32m      2\u001b[0m \u001b[0;32mfrom\u001b[0m \u001b[0mos\u001b[0m\u001b[0;34m.\u001b[0m\u001b[0mpath\u001b[0m \u001b[0;32mimport\u001b[0m \u001b[0misfile\u001b[0m\u001b[0;34m,\u001b[0m \u001b[0mjoin\u001b[0m\u001b[0;34m\u001b[0m\u001b[0;34m\u001b[0m\u001b[0m\n\u001b[0;32m----> 3\u001b[0;31m \u001b[0mfiles_list\u001b[0m \u001b[0;34m=\u001b[0m \u001b[0;34m[\u001b[0m\u001b[0mf\u001b[0m \u001b[0;32mfor\u001b[0m \u001b[0mf\u001b[0m \u001b[0;32min\u001b[0m \u001b[0mlistdir\u001b[0m\u001b[0;34m(\u001b[0m\u001b[0;34m'/home/students'\u001b[0m\u001b[0;34m)\u001b[0m \u001b[0;32mif\u001b[0m \u001b[0misfile\u001b[0m\u001b[0;34m(\u001b[0m\u001b[0mjoin\u001b[0m\u001b[0;34m(\u001b[0m\u001b[0;34m'/home/students'\u001b[0m\u001b[0;34m,\u001b[0m \u001b[0mf\u001b[0m\u001b[0;34m)\u001b[0m\u001b[0;34m)\u001b[0m\u001b[0;34m]\u001b[0m\u001b[0;34m\u001b[0m\u001b[0;34m\u001b[0m\u001b[0m\n\u001b[0m\u001b[1;32m      4\u001b[0m \u001b[0mprint\u001b[0m\u001b[0;34m(\u001b[0m\u001b[0mfiles_list\u001b[0m\u001b[0;34m)\u001b[0m\u001b[0;34m;\u001b[0m\u001b[0;34m\u001b[0m\u001b[0;34m\u001b[0m\u001b[0m\n",
      "\u001b[0;31mFileNotFoundError\u001b[0m: [Errno 2] No such file or directory: '/home/students'"
     ]
    }
   ],
   "source": [
    "from os import listdir\n",
    "from os.path import isfile, join\n",
    "files_list = [f for f in listdir('/home/students') if isfile(join('/home/students', f))]\n",
    "print(files_list);\n"
   ]
  },
  {
   "cell_type": "code",
   "execution_count": null,
   "id": "4ac40e09",
   "metadata": {},
   "outputs": [],
   "source": [
    "50. Write a Python program to print without newline or space. Go to the editor"
   ]
  },
  {
   "cell_type": "code",
   "execution_count": 107,
   "id": "49fbedf5",
   "metadata": {},
   "outputs": [
    {
     "name": "stdout",
     "output_type": "stream",
     "text": [
      "**********\n",
      "\n"
     ]
    }
   ],
   "source": [
    "for i in range(0, 10):\n",
    "    print('*', end=\"\")\n",
    "print(\"\\n\")\n",
    "\t"
   ]
  },
  {
   "cell_type": "code",
   "execution_count": null,
   "id": "de947a06",
   "metadata": {},
   "outputs": [],
   "source": []
  },
  {
   "cell_type": "code",
   "execution_count": null,
   "id": "12e8939f",
   "metadata": {},
   "outputs": [],
   "source": []
  },
  {
   "cell_type": "code",
   "execution_count": null,
   "id": "d1f76c65",
   "metadata": {},
   "outputs": [],
   "source": []
  },
  {
   "cell_type": "code",
   "execution_count": null,
   "id": "94172723",
   "metadata": {},
   "outputs": [],
   "source": []
  },
  {
   "cell_type": "code",
   "execution_count": null,
   "id": "f249b499",
   "metadata": {},
   "outputs": [],
   "source": []
  },
  {
   "cell_type": "code",
   "execution_count": null,
   "id": "cb71d352",
   "metadata": {},
   "outputs": [],
   "source": []
  },
  {
   "cell_type": "code",
   "execution_count": null,
   "id": "552f553a",
   "metadata": {},
   "outputs": [],
   "source": []
  },
  {
   "cell_type": "code",
   "execution_count": null,
   "id": "41e57aee",
   "metadata": {},
   "outputs": [],
   "source": []
  },
  {
   "cell_type": "code",
   "execution_count": null,
   "id": "f9f554d5",
   "metadata": {},
   "outputs": [],
   "source": []
  },
  {
   "cell_type": "code",
   "execution_count": null,
   "id": "332e26bc",
   "metadata": {},
   "outputs": [],
   "source": []
  },
  {
   "cell_type": "code",
   "execution_count": null,
   "id": "b7653151",
   "metadata": {},
   "outputs": [],
   "source": []
  }
 ],
 "metadata": {
  "kernelspec": {
   "display_name": "Python 3",
   "language": "python",
   "name": "python3"
  },
  "language_info": {
   "codemirror_mode": {
    "name": "ipython",
    "version": 3
   },
   "file_extension": ".py",
   "mimetype": "text/x-python",
   "name": "python",
   "nbconvert_exporter": "python",
   "pygments_lexer": "ipython3",
   "version": "3.6.9"
  }
 },
 "nbformat": 4,
 "nbformat_minor": 5
}
